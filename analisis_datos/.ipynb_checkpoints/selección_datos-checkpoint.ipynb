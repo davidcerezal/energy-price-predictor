{
 "cells": [
  {
   "cell_type": "markdown",
   "metadata": {
    "colab_type": "text",
    "id": "cx82H4OmEZVR"
   },
   "source": [
    "# Análisis de variable precio"
   ]
  },
  {
   "cell_type": "markdown",
   "metadata": {
    "colab_type": "text",
    "id": "JASz-63lY64O"
   },
   "source": [
    "##Activación para Colab"
   ]
  },
  {
   "cell_type": "code",
   "execution_count": null,
   "metadata": {
    "colab": {},
    "colab_type": "code",
    "id": "uCkvfteNY-od"
   },
   "outputs": [],
   "source": [
    "from importlib.machinery import SourceFileLoader\n",
    "esios_assembler = SourceFileLoader('esios', '../utils/ESIOS_contoller.py').load_module()\n",
    "\n"
   ]
  },
  {
   "cell_type": "code",
   "execution_count": 0,
   "metadata": {
    "colab": {},
    "colab_type": "code",
    "id": "RrIqkj0YPNeB"
   },
   "outputs": [],
   "source": [
    "#LMG: Para Google CoLab tener el repo de Drive:\n",
    "if inColab:\n",
    "  from google.colab import drive\n",
    "  drive.mount('/content/drive')"
   ]
  },
  {
   "cell_type": "markdown",
   "metadata": {
    "colab_type": "text",
    "id": "QPdkUOGTfXeo"
   },
   "source": [
    "##Carga de librerías y preparación de datos"
   ]
  },
  {
   "cell_type": "code",
   "execution_count": 5,
   "metadata": {
    "colab": {
     "base_uri": "https://localhost:8080/",
     "height": 34
    },
    "colab_type": "code",
    "id": "JZo4Cp7RezA-",
    "outputId": "20882793-a296-45bd-e030-eca8e808294d"
   },
   "outputs": [
    {
     "name": "stderr",
     "output_type": "stream",
     "text": [
      "Using TensorFlow backend.\n"
     ]
    }
   ],
   "source": [
    "%matplotlib inline\n",
    "%config InlineBackend.figure_format = 'retina'\n",
    "import matplotlib.pyplot as plt\n",
    "import pandas as pd\n",
    "import numpy as np\n",
    "import matplotlib.pyplot as plt\n",
    "import time\n",
    "from sklearn.model_selection import train_test_split\n",
    "from keras.models import Sequential\n",
    "from keras.layers import Dense, Activation, LSTM\n",
    "import seaborn as sns \n",
    "from scipy.stats import norm "
   ]
  },
  {
   "cell_type": "code",
   "execution_count": 6,
   "metadata": {
    "colab": {
     "base_uri": "https://localhost:8080/",
     "height": 377
    },
    "colab_type": "code",
    "id": "jElUruaqeoFw",
    "outputId": "dbd377b7-1e7f-4c4f-8a42-45e134df99b6"
   },
   "outputs": [
    {
     "data": {
      "text/html": [
       "<div>\n",
       "<style scoped>\n",
       "    .dataframe tbody tr th:only-of-type {\n",
       "        vertical-align: middle;\n",
       "    }\n",
       "\n",
       "    .dataframe tbody tr th {\n",
       "        vertical-align: top;\n",
       "    }\n",
       "\n",
       "    .dataframe thead th {\n",
       "        text-align: right;\n",
       "    }\n",
       "</style>\n",
       "<table border=\"1\" class=\"dataframe\">\n",
       "  <thead>\n",
       "    <tr style=\"text-align: right;\">\n",
       "      <th></th>\n",
       "      <th>fecha</th>\n",
       "      <th>PVPC_DEF</th>\n",
       "      <th>PVPC_2_PED_NOC</th>\n",
       "      <th>PVPC_ELEC_NOC</th>\n",
       "      <th>date_timestamp</th>\n",
       "      <th>Demanda</th>\n",
       "      <th>Eolica</th>\n",
       "      <th>Nuclear</th>\n",
       "      <th>Solar</th>\n",
       "      <th>Solar_Fotovoltaica</th>\n",
       "      <th>Solar_Termica</th>\n",
       "      <th>Termica_Renovable</th>\n",
       "      <th>Prevista</th>\n",
       "      <th>Programada</th>\n",
       "      <th>date_day</th>\n",
       "      <th>Brent_price</th>\n",
       "      <th>Holiday</th>\n",
       "      <th>Precio de Regulación Secundaria subir</th>\n",
       "      <th>Precio de Regulación Secundaria bajar</th>\n",
       "      <th>Precio mercado SPOT Diario_x</th>\n",
       "      <th>Demanda real</th>\n",
       "      <th>Generación prevista Solar</th>\n",
       "      <th>Saldo total interconexiones programa p48</th>\n",
       "      <th>Generación programada P48 Exportación Portugal</th>\n",
       "      <th>Generación programada P48 Exportación Francia</th>\n",
       "      <th>Generación programada P48 Importación Portugal</th>\n",
       "      <th>Generación programada P48 Importación Francia</th>\n",
       "      <th>Precio SPOT PT</th>\n",
       "      <th>Precio SPOT FR</th>\n",
       "    </tr>\n",
       "  </thead>\n",
       "  <tbody>\n",
       "    <tr>\n",
       "      <th>0</th>\n",
       "      <td>2015-10-01 00:00:00+02:00</td>\n",
       "      <td>117.77</td>\n",
       "      <td>69.49</td>\n",
       "      <td>71.88</td>\n",
       "      <td>1.443650e+09</td>\n",
       "      <td>24984.666667</td>\n",
       "      <td>1003.666667</td>\n",
       "      <td>6012.833333</td>\n",
       "      <td>402.166667</td>\n",
       "      <td>33.0</td>\n",
       "      <td>368.500000</td>\n",
       "      <td>580.166667</td>\n",
       "      <td>24691.833333</td>\n",
       "      <td>24517.0</td>\n",
       "      <td>2015-10-01</td>\n",
       "      <td>47.48</td>\n",
       "      <td>0.0</td>\n",
       "      <td>61.18</td>\n",
       "      <td>NaN</td>\n",
       "      <td>56.65</td>\n",
       "      <td>25305.0</td>\n",
       "      <td>267.6</td>\n",
       "      <td>182.4</td>\n",
       "      <td>-606.6</td>\n",
       "      <td>NaN</td>\n",
       "      <td>NaN</td>\n",
       "      <td>1200.0</td>\n",
       "      <td>56.65</td>\n",
       "      <td>38.56</td>\n",
       "    </tr>\n",
       "    <tr>\n",
       "      <th>1</th>\n",
       "      <td>2015-10-01 01:00:00+02:00</td>\n",
       "      <td>117.09</td>\n",
       "      <td>68.21</td>\n",
       "      <td>65.57</td>\n",
       "      <td>1.443654e+09</td>\n",
       "      <td>23550.833333</td>\n",
       "      <td>899.000000</td>\n",
       "      <td>6013.166667</td>\n",
       "      <td>174.833333</td>\n",
       "      <td>33.0</td>\n",
       "      <td>141.333333</td>\n",
       "      <td>584.166667</td>\n",
       "      <td>23440.000000</td>\n",
       "      <td>23169.0</td>\n",
       "      <td>2015-10-01</td>\n",
       "      <td>47.48</td>\n",
       "      <td>0.0</td>\n",
       "      <td>59.59</td>\n",
       "      <td>NaN</td>\n",
       "      <td>53.50</td>\n",
       "      <td>23959.0</td>\n",
       "      <td>195.7</td>\n",
       "      <td>-269.5</td>\n",
       "      <td>-1112.5</td>\n",
       "      <td>NaN</td>\n",
       "      <td>NaN</td>\n",
       "      <td>1200.0</td>\n",
       "      <td>53.50</td>\n",
       "      <td>31.27</td>\n",
       "    </tr>\n",
       "    <tr>\n",
       "      <th>2</th>\n",
       "      <td>2015-10-01 02:00:00+02:00</td>\n",
       "      <td>114.59</td>\n",
       "      <td>65.34</td>\n",
       "      <td>62.53</td>\n",
       "      <td>1.443658e+09</td>\n",
       "      <td>22648.166667</td>\n",
       "      <td>927.500000</td>\n",
       "      <td>6013.500000</td>\n",
       "      <td>103.833333</td>\n",
       "      <td>33.0</td>\n",
       "      <td>70.666667</td>\n",
       "      <td>585.833333</td>\n",
       "      <td>22521.166667</td>\n",
       "      <td>22437.0</td>\n",
       "      <td>2015-10-01</td>\n",
       "      <td>47.48</td>\n",
       "      <td>0.0</td>\n",
       "      <td>56.27</td>\n",
       "      <td>49.13</td>\n",
       "      <td>49.69</td>\n",
       "      <td>22873.0</td>\n",
       "      <td>202.1</td>\n",
       "      <td>94.0</td>\n",
       "      <td>-951.0</td>\n",
       "      <td>NaN</td>\n",
       "      <td>NaN</td>\n",
       "      <td>1200.0</td>\n",
       "      <td>49.69</td>\n",
       "      <td>30.66</td>\n",
       "    </tr>\n",
       "    <tr>\n",
       "      <th>3</th>\n",
       "      <td>2015-10-01 03:00:00+02:00</td>\n",
       "      <td>116.60</td>\n",
       "      <td>66.53</td>\n",
       "      <td>63.40</td>\n",
       "      <td>1.443661e+09</td>\n",
       "      <td>22203.833333</td>\n",
       "      <td>935.666667</td>\n",
       "      <td>6013.000000</td>\n",
       "      <td>102.000000</td>\n",
       "      <td>33.0</td>\n",
       "      <td>69.000000</td>\n",
       "      <td>588.500000</td>\n",
       "      <td>22335.333333</td>\n",
       "      <td>22281.0</td>\n",
       "      <td>2015-10-01</td>\n",
       "      <td>47.48</td>\n",
       "      <td>0.0</td>\n",
       "      <td>45.99</td>\n",
       "      <td>45.50</td>\n",
       "      <td>49.10</td>\n",
       "      <td>22550.0</td>\n",
       "      <td>61.3</td>\n",
       "      <td>319.7</td>\n",
       "      <td>-846.3</td>\n",
       "      <td>NaN</td>\n",
       "      <td>NaN</td>\n",
       "      <td>1200.0</td>\n",
       "      <td>49.10</td>\n",
       "      <td>29.14</td>\n",
       "    </tr>\n",
       "    <tr>\n",
       "      <th>4</th>\n",
       "      <td>2015-10-01 04:00:00+02:00</td>\n",
       "      <td>122.07</td>\n",
       "      <td>71.03</td>\n",
       "      <td>67.37</td>\n",
       "      <td>1.443665e+09</td>\n",
       "      <td>21987.833333</td>\n",
       "      <td>900.833333</td>\n",
       "      <td>6014.166667</td>\n",
       "      <td>101.666667</td>\n",
       "      <td>33.0</td>\n",
       "      <td>68.166667</td>\n",
       "      <td>589.000000</td>\n",
       "      <td>22177.833333</td>\n",
       "      <td>21910.0</td>\n",
       "      <td>2015-10-01</td>\n",
       "      <td>47.48</td>\n",
       "      <td>0.0</td>\n",
       "      <td>52.28</td>\n",
       "      <td>49.13</td>\n",
       "      <td>51.25</td>\n",
       "      <td>22017.0</td>\n",
       "      <td>45.1</td>\n",
       "      <td>405.5</td>\n",
       "      <td>-760.5</td>\n",
       "      <td>NaN</td>\n",
       "      <td>NaN</td>\n",
       "      <td>1200.0</td>\n",
       "      <td>51.25</td>\n",
       "      <td>29.40</td>\n",
       "    </tr>\n",
       "  </tbody>\n",
       "</table>\n",
       "</div>"
      ],
      "text/plain": [
       "                       fecha  PVPC_DEF  ...  Precio SPOT PT  Precio SPOT FR\n",
       "0  2015-10-01 00:00:00+02:00    117.77  ...           56.65           38.56\n",
       "1  2015-10-01 01:00:00+02:00    117.09  ...           53.50           31.27\n",
       "2  2015-10-01 02:00:00+02:00    114.59  ...           49.69           30.66\n",
       "3  2015-10-01 03:00:00+02:00    116.60  ...           49.10           29.14\n",
       "4  2015-10-01 04:00:00+02:00    122.07  ...           51.25           29.40\n",
       "\n",
       "[5 rows x 29 columns]"
      ]
     },
     "execution_count": 6,
     "metadata": {
      "tags": []
     },
     "output_type": "execute_result"
    }
   ],
   "source": [
    "#LMG: Para CoLab en sample_data:\n",
    "if inColab:\n",
    "  data_consumo = pd.read_csv(\"/content/drive/My Drive/TFM/data/data_total.csv\")\n",
    "else:\n",
    "  data_consumo = pd.read_csv(\"data_total.csv\")\n",
    "\n",
    "  \n",
    "data_consumo = data_consumo.loc[:, ~data_consumo.columns.str.contains('^Unnamed')]  \n",
    "data_consumo.head()"
   ]
  },
  {
   "cell_type": "markdown",
   "metadata": {
    "colab_type": "text",
    "id": "9AOyGsv9Qx20"
   },
   "source": [
    "## Selección de variables\n",
    "\n",
    "### Selección de variables en tiempo real."
   ]
  },
  {
   "cell_type": "code",
   "execution_count": 0,
   "metadata": {
    "colab": {},
    "colab_type": "code",
    "id": "VZZyRzZHnk3d"
   },
   "outputs": [],
   "source": [
    "data_x = data_consumo.drop(columns=['PVPC_DEF',\n",
    "  'PVPC_2_PED_NOC',\n",
    "  'PVPC_ELEC_NOC',\n",
    "  'Precio mercado SPOT Diario_x',\n",
    "  'Precio SPOT PT',\n",
    "  'Precio SPOT FR',\n",
    "  'Demanda real',\n",
    "  'fecha',\n",
    "  'date_day',\n",
    "  'date_timestamp'                                  \n",
    "])\n",
    "\n",
    "data_y = data_consumo[['PVPC_DEF']]\n",
    "data_x = data_x.fillna(method='bfill')\n",
    "data_x.head()\n",
    "\n",
    "data_x = data_x.replace([np.inf, -np.inf], np.nan).dropna( how=\"all\")"
   ]
  },
  {
   "cell_type": "code",
   "execution_count": 44,
   "metadata": {
    "colab": {
     "base_uri": "https://localhost:8080/",
     "height": 34
    },
    "colab_type": "code",
    "id": "hxJs-kJGqICy",
    "outputId": "f555f619-6712-4f8d-eba0-5f3087dd5989"
   },
   "outputs": [
    {
     "data": {
      "text/plain": [
       "True"
      ]
     },
     "execution_count": 44,
     "metadata": {
      "tags": []
     },
     "output_type": "execute_result"
    }
   ],
   "source": [
    "np.any(np.isnan(data_x))"
   ]
  },
  {
   "cell_type": "code",
   "execution_count": 45,
   "metadata": {
    "colab": {
     "base_uri": "https://localhost:8080/",
     "height": 34
    },
    "colab_type": "code",
    "id": "-OOGLYZgqLu-",
    "outputId": "f37a6b85-ca2b-43b4-84bc-eb4cddc0dccd"
   },
   "outputs": [
    {
     "data": {
      "text/plain": [
       "False"
      ]
     },
     "execution_count": 45,
     "metadata": {
      "tags": []
     },
     "output_type": "execute_result"
    }
   ],
   "source": [
    "np.all(np.isfinite(data_x))"
   ]
  },
  {
   "cell_type": "code",
   "execution_count": 38,
   "metadata": {
    "colab": {
     "base_uri": "https://localhost:8080/",
     "height": 425
    },
    "colab_type": "code",
    "id": "xi0voT8drvfZ",
    "outputId": "c7c80249-3180-4e23-b00b-c770633fbcfb"
   },
   "outputs": [
    {
     "name": "stdout",
     "output_type": "stream",
     "text": [
      "<class 'pandas.core.frame.DataFrame'>\n",
      "RangeIndex: 30555 entries, 0 to 30554\n",
      "Data columns (total 19 columns):\n",
      "Demanda                                           30555 non-null float64\n",
      "Eolica                                            30555 non-null float64\n",
      "Nuclear                                           30555 non-null float64\n",
      "Solar                                             30555 non-null float64\n",
      "Solar_Fotovoltaica                                30555 non-null float64\n",
      "Solar_Termica                                     30555 non-null float64\n",
      "Termica_Renovable                                 30555 non-null float64\n",
      "Prevista                                          30555 non-null float64\n",
      "Programada                                        30555 non-null float64\n",
      "Brent_price                                       30555 non-null float64\n",
      "Holiday                                           30555 non-null float64\n",
      "Precio de Regulación Secundaria subir             30555 non-null float64\n",
      "Precio de Regulación Secundaria bajar             30553 non-null float64\n",
      "Generación prevista Solar                         30555 non-null float64\n",
      "Saldo total interconexiones programa p48          30555 non-null float64\n",
      "Generación programada P48 Exportación Portugal    30555 non-null float64\n",
      "Generación programada P48 Exportación Francia     30539 non-null float64\n",
      "Generación programada P48 Importación Portugal    30548 non-null float64\n",
      "Generación programada P48 Importación Francia     30555 non-null float64\n",
      "dtypes: float64(19)\n",
      "memory usage: 4.4 MB\n"
     ]
    }
   ],
   "source": [
    "data_x.info()"
   ]
  },
  {
   "cell_type": "markdown",
   "metadata": {
    "colab_type": "text",
    "id": "odntV2htnmKP"
   },
   "source": [
    "### Eliminar variables con baja varianza"
   ]
  },
  {
   "cell_type": "code",
   "execution_count": 0,
   "metadata": {
    "colab": {},
    "colab_type": "code",
    "id": "WSxFzAYAtM_f"
   },
   "outputs": [],
   "source": [
    "from sklearn.feature_selection import VarianceThreshold\n",
    "\n",
    "var_th = VarianceThreshold(threshold = 0.60)\n",
    "x_var = var_th.fit_transform(x)\n",
    "\n",
    "print('Variables originales ', x.shape[1])\n",
    "print('Variables finales ', x_var.shape[1])\n",
    "\n",
    "print('Listado de variables ', np.asarray(list(x))[var_th.get_support()])"
   ]
  },
  {
   "cell_type": "markdown",
   "metadata": {
    "colab_type": "text",
    "id": "oUQ91987tN11"
   },
   "source": [
    "### Selección de mejores k "
   ]
  },
  {
   "cell_type": "code",
   "execution_count": 41,
   "metadata": {
    "colab": {
     "base_uri": "https://localhost:8080/",
     "height": 395
    },
    "colab_type": "code",
    "id": "z9TmIt7MLhzN",
    "outputId": "fa50d999-9b6c-4e43-a9f5-26635677f743"
   },
   "outputs": [
    {
     "ename": "ValueError",
     "evalue": "ignored",
     "output_type": "error",
     "traceback": [
      "\u001b[0;31m---------------------------------------------------------------------------\u001b[0m",
      "\u001b[0;31mValueError\u001b[0m                                Traceback (most recent call last)",
      "\u001b[0;32m<ipython-input-41-565b50082224>\u001b[0m in \u001b[0;36m<module>\u001b[0;34m()\u001b[0m\n\u001b[1;32m      3\u001b[0m \u001b[0;34m\u001b[0m\u001b[0m\n\u001b[1;32m      4\u001b[0m \u001b[0mvar_sp\u001b[0m \u001b[0;34m=\u001b[0m \u001b[0mSelectPercentile\u001b[0m\u001b[0;34m(\u001b[0m\u001b[0mf_regression\u001b[0m\u001b[0;34m,\u001b[0m \u001b[0mpercentile\u001b[0m \u001b[0;34m=\u001b[0m \u001b[0;36m50\u001b[0m\u001b[0;34m)\u001b[0m\u001b[0;34m\u001b[0m\u001b[0;34m\u001b[0m\u001b[0m\n\u001b[0;32m----> 5\u001b[0;31m \u001b[0mx_sp\u001b[0m \u001b[0;34m=\u001b[0m \u001b[0mvar_sp\u001b[0m\u001b[0;34m.\u001b[0m\u001b[0mfit_transform\u001b[0m\u001b[0;34m(\u001b[0m\u001b[0mdata_x\u001b[0m\u001b[0;34m,\u001b[0m \u001b[0mdata_y\u001b[0m\u001b[0;34m)\u001b[0m\u001b[0;34m\u001b[0m\u001b[0;34m\u001b[0m\u001b[0m\n\u001b[0m\u001b[1;32m      6\u001b[0m \u001b[0;34m\u001b[0m\u001b[0m\n\u001b[1;32m      7\u001b[0m \u001b[0mprint\u001b[0m\u001b[0;34m(\u001b[0m\u001b[0;34m'Variables finales '\u001b[0m\u001b[0;34m,\u001b[0m \u001b[0mx_sk\u001b[0m\u001b[0;34m.\u001b[0m\u001b[0mshape\u001b[0m\u001b[0;34m[\u001b[0m\u001b[0;36m1\u001b[0m\u001b[0;34m]\u001b[0m\u001b[0;34m)\u001b[0m\u001b[0;34m\u001b[0m\u001b[0;34m\u001b[0m\u001b[0m\n",
      "\u001b[0;32m/usr/local/lib/python3.6/dist-packages/sklearn/base.py\u001b[0m in \u001b[0;36mfit_transform\u001b[0;34m(self, X, y, **fit_params)\u001b[0m\n\u001b[1;32m    554\u001b[0m         \u001b[0;32melse\u001b[0m\u001b[0;34m:\u001b[0m\u001b[0;34m\u001b[0m\u001b[0;34m\u001b[0m\u001b[0m\n\u001b[1;32m    555\u001b[0m             \u001b[0;31m# fit method of arity 2 (supervised transformation)\u001b[0m\u001b[0;34m\u001b[0m\u001b[0;34m\u001b[0m\u001b[0;34m\u001b[0m\u001b[0m\n\u001b[0;32m--> 556\u001b[0;31m             \u001b[0;32mreturn\u001b[0m \u001b[0mself\u001b[0m\u001b[0;34m.\u001b[0m\u001b[0mfit\u001b[0m\u001b[0;34m(\u001b[0m\u001b[0mX\u001b[0m\u001b[0;34m,\u001b[0m \u001b[0my\u001b[0m\u001b[0;34m,\u001b[0m \u001b[0;34m**\u001b[0m\u001b[0mfit_params\u001b[0m\u001b[0;34m)\u001b[0m\u001b[0;34m.\u001b[0m\u001b[0mtransform\u001b[0m\u001b[0;34m(\u001b[0m\u001b[0mX\u001b[0m\u001b[0;34m)\u001b[0m\u001b[0;34m\u001b[0m\u001b[0;34m\u001b[0m\u001b[0m\n\u001b[0m\u001b[1;32m    557\u001b[0m \u001b[0;34m\u001b[0m\u001b[0m\n\u001b[1;32m    558\u001b[0m \u001b[0;34m\u001b[0m\u001b[0m\n",
      "\u001b[0;32m/usr/local/lib/python3.6/dist-packages/sklearn/feature_selection/univariate_selection.py\u001b[0m in \u001b[0;36mfit\u001b[0;34m(self, X, y)\u001b[0m\n\u001b[1;32m    339\u001b[0m         \u001b[0mself\u001b[0m \u001b[0;34m:\u001b[0m \u001b[0mobject\u001b[0m\u001b[0;34m\u001b[0m\u001b[0;34m\u001b[0m\u001b[0m\n\u001b[1;32m    340\u001b[0m         \"\"\"\n\u001b[0;32m--> 341\u001b[0;31m         \u001b[0mX\u001b[0m\u001b[0;34m,\u001b[0m \u001b[0my\u001b[0m \u001b[0;34m=\u001b[0m \u001b[0mcheck_X_y\u001b[0m\u001b[0;34m(\u001b[0m\u001b[0mX\u001b[0m\u001b[0;34m,\u001b[0m \u001b[0my\u001b[0m\u001b[0;34m,\u001b[0m \u001b[0;34m[\u001b[0m\u001b[0;34m'csr'\u001b[0m\u001b[0;34m,\u001b[0m \u001b[0;34m'csc'\u001b[0m\u001b[0;34m]\u001b[0m\u001b[0;34m,\u001b[0m \u001b[0mmulti_output\u001b[0m\u001b[0;34m=\u001b[0m\u001b[0;32mTrue\u001b[0m\u001b[0;34m)\u001b[0m\u001b[0;34m\u001b[0m\u001b[0;34m\u001b[0m\u001b[0m\n\u001b[0m\u001b[1;32m    342\u001b[0m \u001b[0;34m\u001b[0m\u001b[0m\n\u001b[1;32m    343\u001b[0m         \u001b[0;32mif\u001b[0m \u001b[0;32mnot\u001b[0m \u001b[0mcallable\u001b[0m\u001b[0;34m(\u001b[0m\u001b[0mself\u001b[0m\u001b[0;34m.\u001b[0m\u001b[0mscore_func\u001b[0m\u001b[0;34m)\u001b[0m\u001b[0;34m:\u001b[0m\u001b[0;34m\u001b[0m\u001b[0;34m\u001b[0m\u001b[0m\n",
      "\u001b[0;32m/usr/local/lib/python3.6/dist-packages/sklearn/utils/validation.py\u001b[0m in \u001b[0;36mcheck_X_y\u001b[0;34m(X, y, accept_sparse, accept_large_sparse, dtype, order, copy, force_all_finite, ensure_2d, allow_nd, multi_output, ensure_min_samples, ensure_min_features, y_numeric, warn_on_dtype, estimator)\u001b[0m\n\u001b[1;32m    717\u001b[0m                     \u001b[0mensure_min_features\u001b[0m\u001b[0;34m=\u001b[0m\u001b[0mensure_min_features\u001b[0m\u001b[0;34m,\u001b[0m\u001b[0;34m\u001b[0m\u001b[0;34m\u001b[0m\u001b[0m\n\u001b[1;32m    718\u001b[0m                     \u001b[0mwarn_on_dtype\u001b[0m\u001b[0;34m=\u001b[0m\u001b[0mwarn_on_dtype\u001b[0m\u001b[0;34m,\u001b[0m\u001b[0;34m\u001b[0m\u001b[0;34m\u001b[0m\u001b[0m\n\u001b[0;32m--> 719\u001b[0;31m                     estimator=estimator)\n\u001b[0m\u001b[1;32m    720\u001b[0m     \u001b[0;32mif\u001b[0m \u001b[0mmulti_output\u001b[0m\u001b[0;34m:\u001b[0m\u001b[0;34m\u001b[0m\u001b[0;34m\u001b[0m\u001b[0m\n\u001b[1;32m    721\u001b[0m         y = check_array(y, 'csr', force_all_finite=True, ensure_2d=False,\n",
      "\u001b[0;32m/usr/local/lib/python3.6/dist-packages/sklearn/utils/validation.py\u001b[0m in \u001b[0;36mcheck_array\u001b[0;34m(array, accept_sparse, accept_large_sparse, dtype, order, copy, force_all_finite, ensure_2d, allow_nd, ensure_min_samples, ensure_min_features, warn_on_dtype, estimator)\u001b[0m\n\u001b[1;32m    540\u001b[0m         \u001b[0;32mif\u001b[0m \u001b[0mforce_all_finite\u001b[0m\u001b[0;34m:\u001b[0m\u001b[0;34m\u001b[0m\u001b[0;34m\u001b[0m\u001b[0m\n\u001b[1;32m    541\u001b[0m             _assert_all_finite(array,\n\u001b[0;32m--> 542\u001b[0;31m                                allow_nan=force_all_finite == 'allow-nan')\n\u001b[0m\u001b[1;32m    543\u001b[0m \u001b[0;34m\u001b[0m\u001b[0m\n\u001b[1;32m    544\u001b[0m     \u001b[0;32mif\u001b[0m \u001b[0mensure_min_samples\u001b[0m \u001b[0;34m>\u001b[0m \u001b[0;36m0\u001b[0m\u001b[0;34m:\u001b[0m\u001b[0;34m\u001b[0m\u001b[0;34m\u001b[0m\u001b[0m\n",
      "\u001b[0;32m/usr/local/lib/python3.6/dist-packages/sklearn/utils/validation.py\u001b[0m in \u001b[0;36m_assert_all_finite\u001b[0;34m(X, allow_nan)\u001b[0m\n\u001b[1;32m     54\u001b[0m                 not allow_nan and not np.isfinite(X).all()):\n\u001b[1;32m     55\u001b[0m             \u001b[0mtype_err\u001b[0m \u001b[0;34m=\u001b[0m \u001b[0;34m'infinity'\u001b[0m \u001b[0;32mif\u001b[0m \u001b[0mallow_nan\u001b[0m \u001b[0;32melse\u001b[0m \u001b[0;34m'NaN, infinity'\u001b[0m\u001b[0;34m\u001b[0m\u001b[0;34m\u001b[0m\u001b[0m\n\u001b[0;32m---> 56\u001b[0;31m             \u001b[0;32mraise\u001b[0m \u001b[0mValueError\u001b[0m\u001b[0;34m(\u001b[0m\u001b[0mmsg_err\u001b[0m\u001b[0;34m.\u001b[0m\u001b[0mformat\u001b[0m\u001b[0;34m(\u001b[0m\u001b[0mtype_err\u001b[0m\u001b[0;34m,\u001b[0m \u001b[0mX\u001b[0m\u001b[0;34m.\u001b[0m\u001b[0mdtype\u001b[0m\u001b[0;34m)\u001b[0m\u001b[0;34m)\u001b[0m\u001b[0;34m\u001b[0m\u001b[0;34m\u001b[0m\u001b[0m\n\u001b[0m\u001b[1;32m     57\u001b[0m     \u001b[0;31m# for object dtype data, we only check for NaNs (GH-13254)\u001b[0m\u001b[0;34m\u001b[0m\u001b[0;34m\u001b[0m\u001b[0;34m\u001b[0m\u001b[0m\n\u001b[1;32m     58\u001b[0m     \u001b[0;32melif\u001b[0m \u001b[0mX\u001b[0m\u001b[0;34m.\u001b[0m\u001b[0mdtype\u001b[0m \u001b[0;34m==\u001b[0m \u001b[0mnp\u001b[0m\u001b[0;34m.\u001b[0m\u001b[0mdtype\u001b[0m\u001b[0;34m(\u001b[0m\u001b[0;34m'object'\u001b[0m\u001b[0;34m)\u001b[0m \u001b[0;32mand\u001b[0m \u001b[0;32mnot\u001b[0m \u001b[0mallow_nan\u001b[0m\u001b[0;34m:\u001b[0m\u001b[0;34m\u001b[0m\u001b[0;34m\u001b[0m\u001b[0m\n",
      "\u001b[0;31mValueError\u001b[0m: Input contains NaN, infinity or a value too large for dtype('float64')."
     ]
    }
   ],
   "source": [
    "from sklearn.feature_selection import SelectPercentile\n",
    "from sklearn.feature_selection import f_regression \n",
    "\n",
    "var_sp = SelectPercentile(f_regression, percentile = 50)\n",
    "x_sp = var_sp.fit_transform(data_x, data_y)\n",
    "\n",
    "print('Variables finales ', x_sk.shape[1])\n",
    "\n",
    "print('Listado de variables ', np.asarray(list(data_x))[var_sk.get_support()])"
   ]
  },
  {
   "cell_type": "code",
   "execution_count": 0,
   "metadata": {
    "colab": {},
    "colab_type": "code",
    "id": "iIIKZbfCpZxl"
   },
   "outputs": [],
   "source": []
  }
 ],
 "metadata": {
  "colab": {
   "collapsed_sections": [],
   "name": "selección_datos.ipynb",
   "provenance": [],
   "toc_visible": true,
   "version": "0.3.2"
  },
  "kernelspec": {
   "display_name": "Python 3",
   "language": "python",
   "name": "python3"
  },
  "language_info": {
   "codemirror_mode": {
    "name": "ipython",
    "version": 3
   },
   "file_extension": ".py",
   "mimetype": "text/x-python",
   "name": "python",
   "nbconvert_exporter": "python",
   "pygments_lexer": "ipython3",
   "version": "3.6.8"
  }
 },
 "nbformat": 4,
 "nbformat_minor": 1
}
