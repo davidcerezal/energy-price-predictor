{
 "cells": [
  {
   "cell_type": "markdown",
   "metadata": {
    "colab_type": "text",
    "id": "cx82H4OmEZVR"
   },
   "source": [
    "# LTSM SIMPLE\n",
    "\n"
   ]
  },
  {
   "cell_type": "markdown",
   "metadata": {
    "colab_type": "text",
    "id": "JASz-63lY64O"
   },
   "source": [
    "## Importación de librerías y datos\n",
    "\n",
    "Por medio de nuestra libería ESIOS_contoller.py importamos nuestro último dataset de datos y lo parseamos para su uso. Sirve tanto como para Drive como jupiter."
   ]
  },
  {
   "cell_type": "code",
   "execution_count": 2,
   "metadata": {
    "colab": {
     "base_uri": "https://localhost:8080/",
     "height": 123
    },
    "colab_type": "code",
    "id": "uCkvfteNY-od",
    "outputId": "88f3e881-c811-43ba-ac60-4cb3eafa06f3"
   },
   "outputs": [
    {
     "name": "stderr",
     "output_type": "stream",
     "text": [
      "Using TensorFlow backend.\n"
     ]
    },
    {
     "name": "stdout",
     "output_type": "stream",
     "text": [
      "Mostrando los datos de data_total_for_non_serial.csv\n",
      "(30555, 33)\n",
      "________________________________________________________________________________\n"
     ]
    }
   ],
   "source": [
    "import json, urllib, datetime, pickle, time\n",
    "import pandas as pd\n",
    "import numpy as np\n",
    "import seaborn as sns \n",
    "import matplotlib.pyplot as plt\n",
    "from sklearn.model_selection import *\n",
    "from sklearn.preprocessing import *\n",
    "from sklearn.metrics import *\n",
    "from keras.models import *\n",
    "from keras.layers import *\n",
    "from keras.optimizers import *\n",
    "from scipy.stats import *\n",
    "from importlib.machinery import SourceFileLoader\n",
    "\n",
    "\n",
    "try:\n",
    "  from google.colab import drive\n",
    "  drive.mount('/content/drive')\n",
    "  path = '/content/drive/My Drive/TFM/Utils/ESIOS_contoller.py'\n",
    "  in_colab = True\n",
    "except:\n",
    "  path = '../utils/ESIOS_contoller.py'\n",
    "  in_colab = False\n",
    "  \n",
    "\n",
    "esios_assembler = SourceFileLoader('esios', path).load_module()\n",
    "\n",
    "esios_controller = esios_assembler.ESIOS(in_colab)\n",
    "data_consumo = esios_controller.get_data('non-secuencial')"
   ]
  },
  {
   "cell_type": "markdown",
   "metadata": {
    "colab_type": "text",
    "id": "CaGx5ORyGZLI"
   },
   "source": [
    "## Preparación de los datos"
   ]
  },
  {
   "cell_type": "code",
   "execution_count": 0,
   "metadata": {
    "colab": {
     "base_uri": "https://localhost:8080/",
     "height": 51
    },
    "colab_type": "code",
    "id": "FtIkBQUL74un",
    "outputId": "871e8a3b-2b06-4582-9a2a-587573ad4954"
   },
   "outputs": [
    {
     "name": "stdout",
     "output_type": "stream",
     "text": [
      "Xtrain_dim: (20471, 23)\n",
      "Ytrain_dim: (20471, 1)\n"
     ]
    }
   ],
   "source": [
    "x_data = esios_controller.get_data_real_time()\n",
    "y_data = esios_controller.get_target_data()\n",
    "\n",
    "# Split the data\n",
    "x_train, x_valid, y_train, y_valid = train_test_split(x_data, y_data, test_size=0.33, shuffle=False)\n",
    "\n",
    "#Reshape for the LSTM\n",
    "x_train = x_train.to_numpy()\n",
    "x_valid = x_valid.to_numpy()\n",
    "y_train = y_train.to_numpy()\n",
    "y_valid = y_valid.to_numpy()\n",
    "\n",
    "print('Xtrain_dim:', x_train.shape)\n",
    "print('Ytrain_dim:', y_train.shape)"
   ]
  },
  {
   "cell_type": "markdown",
   "metadata": {
    "colab_type": "text",
    "id": "24K8XGk7Eirr"
   },
   "source": [
    "##Modelo"
   ]
  },
  {
   "cell_type": "code",
   "execution_count": 0,
   "metadata": {
    "colab": {
     "base_uri": "https://localhost:8080/",
     "height": 102
    },
    "colab_type": "code",
    "id": "EVU0VJ48QxXl",
    "outputId": "629762e5-779e-4f74-ddee-0e054ccbe5b1"
   },
   "outputs": [
    {
     "data": {
      "text/plain": [
       "DecisionTreeRegressor(criterion='mse', max_depth=None, max_features=None,\n",
       "                      max_leaf_nodes=None, min_impurity_decrease=0.0,\n",
       "                      min_impurity_split=None, min_samples_leaf=1,\n",
       "                      min_samples_split=2, min_weight_fraction_leaf=0.0,\n",
       "                      presort=False, random_state=0, splitter='best')"
      ]
     },
     "execution_count": 36,
     "metadata": {
      "tags": []
     },
     "output_type": "execute_result"
    }
   ],
   "source": [
    "from sklearn.tree import DecisionTreeRegressor\n",
    "\n",
    "regressor = DecisionTreeRegressor(random_state=0)\n",
    "regressor.fit(x_train, y_train)"
   ]
  },
  {
   "cell_type": "code",
   "execution_count": 0,
   "metadata": {
    "colab": {
     "base_uri": "https://localhost:8080/",
     "height": 51
    },
    "colab_type": "code",
    "id": "LIQH8QUHzo5w",
    "outputId": "4696be6f-39ab-4d02-afb1-6086b73ff997"
   },
   "outputs": [
    {
     "data": {
      "text/plain": [
       "array([0.78775875, 0.52461888, 0.6820827 , 0.72300306, 0.59406513,\n",
       "       0.80706985, 0.73176272, 0.76880528, 0.7622391 , 0.5381068 ])"
      ]
     },
     "execution_count": 37,
     "metadata": {
      "tags": []
     },
     "output_type": "execute_result"
    }
   ],
   "source": [
    "from sklearn.model_selection import cross_val_score\n",
    "\n",
    "cross_val_score(regressor, x_valid, y_valid, cv=10)"
   ]
  },
  {
   "cell_type": "code",
   "execution_count": 0,
   "metadata": {
    "colab": {
     "base_uri": "https://localhost:8080/",
     "height": 119
    },
    "colab_type": "code",
    "id": "Ez4sqKXfztbn",
    "outputId": "dc616d7a-a46d-4337-9f29-e4769313a5fc"
   },
   "outputs": [
    {
     "name": "stdout",
     "output_type": "stream",
     "text": [
      "R2 en entrenamiento es:  1.0\n",
      "R2 en validación es:  0.8140189333930462\n",
      "MAE:  3.5193722729075763\n",
      "MSE:  23.547518117810395\n",
      "Variance:  0.8228015232487185\n",
      "R2:  0.8218263409334737\n"
     ]
    }
   ],
   "source": [
    "print('R2 en entrenamiento es: ', regressor.score(x_train, y_train))\n",
    "print('R2 en validación es: ', regressor.score(x_valid, y_valid))\n",
    "\n",
    "print('MAE: ', mean_absolute_error(regressor.predict(x_valid), y_valid))\n",
    "print('MSE: ', mean_squared_error(regressor.predict(x_valid), y_valid))\n",
    "#print('RMSE: ', mean_squared_log_error(regressor.predict(x_valid), y_valid))\n",
    "print('Variance: ', explained_variance_score(regressor.predict(x_valid), y_valid))\n",
    "print('R2: ', r2_score(regressor.predict(x_valid), y_valid))\n",
    "#print(regressor.coef_)"
   ]
  },
  {
   "cell_type": "markdown",
   "metadata": {
    "colab_type": "text",
    "id": "zhDhSR0fuuQf"
   },
   "source": [
    "## Normalizados"
   ]
  },
  {
   "cell_type": "code",
   "execution_count": 0,
   "metadata": {
    "colab": {},
    "colab_type": "code",
    "id": "306XPpX6ut3X"
   },
   "outputs": [],
   "source": [
    "scaler = StandardScaler()\n",
    "x_train_est = scaler.fit_transform(x_train)\n",
    "y_train_est = scaler.fit_transform(y_train)\n",
    "x_valid_est = scaler.fit_transform(x_valid)\n",
    "y_valid_est = scaler.fit_transform(y_valid)"
   ]
  },
  {
   "cell_type": "code",
   "execution_count": 0,
   "metadata": {
    "colab": {
     "base_uri": "https://localhost:8080/",
     "height": 102
    },
    "colab_type": "code",
    "id": "bO_SK-jNut0Y",
    "outputId": "e554dd47-c47d-4e74-d182-ea5494457717"
   },
   "outputs": [
    {
     "data": {
      "text/plain": [
       "DecisionTreeRegressor(criterion='mse', max_depth=None, max_features=None,\n",
       "                      max_leaf_nodes=None, min_impurity_decrease=0.0,\n",
       "                      min_impurity_split=None, min_samples_leaf=1,\n",
       "                      min_samples_split=2, min_weight_fraction_leaf=0.0,\n",
       "                      presort=False, random_state=0, splitter='best')"
      ]
     },
     "execution_count": 40,
     "metadata": {
      "tags": []
     },
     "output_type": "execute_result"
    }
   ],
   "source": [
    "regressor_standarized = DecisionTreeRegressor(random_state=0)\n",
    "regressor_standarized.fit(x_train_est, y_train_est)"
   ]
  },
  {
   "cell_type": "code",
   "execution_count": 0,
   "metadata": {
    "colab": {
     "base_uri": "https://localhost:8080/",
     "height": 119
    },
    "colab_type": "code",
    "id": "yT0Wgw-Su0xg",
    "outputId": "a65bec7c-751a-4be0-ab20-ac5543956c9b"
   },
   "outputs": [
    {
     "name": "stdout",
     "output_type": "stream",
     "text": [
      "R2 en entrenamiento es:  0.9999999971664847\n",
      "R2 en validación es:  0.8564415424845535\n",
      "MAE:  0.2715218174119526\n",
      "MSE:  0.14355845751544644\n",
      "Variance:  0.8473509162286471\n",
      "R2:  0.8472343601302845\n"
     ]
    }
   ],
   "source": [
    "print('R2 en entrenamiento es: ', regressor_standarized.score(x_train_est, y_train_est))\n",
    "print('R2 en validación es: ', regressor_standarized.score(x_valid_est, y_valid_est))\n",
    "\n",
    "print('MAE: ', mean_absolute_error(regressor_standarized.predict(x_valid_est), y_valid_est))\n",
    "print('MSE: ', mean_squared_error(regressor_standarized.predict(x_valid_est), y_valid_est))\n",
    "#print('RMSE: ', mean_squared_log_error(regressor_standarized.predict(x_valid_est), y_valid_est))\n",
    "print('Variance: ', explained_variance_score(regressor_standarized.predict(x_valid_est), y_valid_est))\n",
    "print('R2: ', r2_score(regressor_standarized.predict(x_valid_est), y_valid_est))"
   ]
  },
  {
   "cell_type": "markdown",
   "metadata": {
    "colab_type": "text",
    "id": "1km7BRTqxm4a"
   },
   "source": [
    "## Optimización de modelos"
   ]
  },
  {
   "cell_type": "code",
   "execution_count": 0,
   "metadata": {
    "colab": {
     "base_uri": "https://localhost:8080/",
     "height": 323
    },
    "colab_type": "code",
    "id": "9ZjvLUwCxq8P",
    "outputId": "c54086e4-db2b-40f2-d983-094c6a3b6531"
   },
   "outputs": [
    {
     "data": {
      "text/plain": [
       "GridSearchCV(cv=5, error_score='raise-deprecating',\n",
       "             estimator=DecisionTreeRegressor(criterion='mse', max_depth=None,\n",
       "                                             max_features=None,\n",
       "                                             max_leaf_nodes=None,\n",
       "                                             min_impurity_decrease=0.0,\n",
       "                                             min_impurity_split=None,\n",
       "                                             min_samples_leaf=1,\n",
       "                                             min_samples_split=2,\n",
       "                                             min_weight_fraction_leaf=0.0,\n",
       "                                             presort=False, random_state=0,\n",
       "                                             splitter='best'),\n",
       "             iid='warn', n_jobs=None,\n",
       "             param_grid={'criterion': ['mse', 'mae'], 'max_depth': [2, 6, 8],\n",
       "                         'max_leaf_nodes': [5, 20, 100],\n",
       "                         'min_samples_leaf': [20, 40, 100],\n",
       "                         'min_samples_split': [10, 20, 40]},\n",
       "             pre_dispatch='2*n_jobs', refit=True, return_train_score=False,\n",
       "             scoring=None, verbose=0)"
      ]
     },
     "execution_count": 18,
     "metadata": {
      "tags": []
     },
     "output_type": "execute_result"
    }
   ],
   "source": [
    "param_grid = {\"criterion\": [\"mse\", \"mae\"],\n",
    "              \"min_samples_split\": [10, 20, 40],\n",
    "              \"max_depth\": [2, 6, 8],\n",
    "              \"min_samples_leaf\": [20, 40, 100],\n",
    "              \"max_leaf_nodes\": [5, 20, 100],\n",
    "              }\n",
    "\n",
    "clf = GridSearchCV(regressor, param_grid, cv=5)\n",
    "clf.fit(x_train, y_train)"
   ]
  },
  {
   "cell_type": "code",
   "execution_count": 0,
   "metadata": {
    "colab": {
     "base_uri": "https://localhost:8080/",
     "height": 34
    },
    "colab_type": "code",
    "id": "-5ksZrzEkNuk",
    "outputId": "069df62a-7636-4ec2-fd34-5d270cc635c1"
   },
   "outputs": [
    {
     "name": "stdout",
     "output_type": "stream",
     "text": [
      "{'criterion': 'mse', 'max_depth': 8, 'max_leaf_nodes': 100, 'min_samples_leaf': 40, 'min_samples_split': 10}\n"
     ]
    }
   ],
   "source": [
    "print(clf.best_params_)\n"
   ]
  },
  {
   "cell_type": "markdown",
   "metadata": {
    "colab_type": "text",
    "id": "JIlNpmfEA90q"
   },
   "source": [
    "## Try best model"
   ]
  },
  {
   "cell_type": "code",
   "execution_count": 0,
   "metadata": {
    "colab": {},
    "colab_type": "code",
    "id": "rtqCfIoVk5IA"
   },
   "outputs": [],
   "source": [
    "regressor = DecisionTreeRegressor(criterion='mse', max_depth= 8, max_leaf_nodes= 200, min_samples_leaf= 40, min_samples_split= 2)\n",
    "model_fit = regressor.fit(x_train, y_train)"
   ]
  },
  {
   "cell_type": "code",
   "execution_count": 0,
   "metadata": {
    "colab": {
     "base_uri": "https://localhost:8080/",
     "height": 51
    },
    "colab_type": "code",
    "id": "jw5UYYmtk7Dg",
    "outputId": "2c295c4a-749d-4fac-dc7e-6d7eab6645aa"
   },
   "outputs": [
    {
     "data": {
      "text/plain": [
       "array([0.89486021, 0.72979586, 0.80117989, 0.81741218, 0.76559692,\n",
       "       0.88774078, 0.83484429, 0.86445979, 0.83767378, 0.71632333])"
      ]
     },
     "execution_count": 46,
     "metadata": {
      "tags": []
     },
     "output_type": "execute_result"
    }
   ],
   "source": [
    "from sklearn.model_selection import cross_val_score\n",
    "\n",
    "cross_val_score(regressor, x_valid, y_valid, cv=10)"
   ]
  },
  {
   "cell_type": "code",
   "execution_count": 0,
   "metadata": {
    "colab": {
     "base_uri": "https://localhost:8080/",
     "height": 119
    },
    "colab_type": "code",
    "id": "cqxo4CDSk9NR",
    "outputId": "e0985d8c-4fcf-46fc-c5cb-8c757cc7cd06"
   },
   "outputs": [
    {
     "name": "stdout",
     "output_type": "stream",
     "text": [
      "R2 en entrenamiento es:  0.949767732603002\n",
      "R2 en validación es:  0.9163412188583834\n",
      "MAE:  2.3705676905981328\n",
      "MSE:  10.592243073911355\n",
      "Variance:  0.9072843005214764\n",
      "R2:  0.905683241767359\n"
     ]
    }
   ],
   "source": [
    "print('R2 en entrenamiento es: ', regressor.score(x_train, y_train))\n",
    "print('R2 en validación es: ', regressor.score(x_valid, y_valid))\n",
    "\n",
    "print('MAE: ', mean_absolute_error(regressor.predict(x_valid), y_valid))\n",
    "print('MSE: ', mean_squared_error(regressor.predict(x_valid), y_valid))\n",
    "#print('RMSE: ', mean_squared_log_error(regressor.predict(x_valid), y_valid))\n",
    "print('Variance: ', explained_variance_score(regressor.predict(x_valid), y_valid))\n",
    "print('R2: ', r2_score(regressor.predict(x_valid), y_valid))\n",
    "#print(regressor.coef_)"
   ]
  }
 ],
 "metadata": {
  "accelerator": "GPU",
  "colab": {
   "collapsed_sections": [],
   "name": "LTSM_simple.ipynb",
   "provenance": [],
   "toc_visible": true,
   "version": "0.3.2"
  },
  "kernelspec": {
   "display_name": "Python 3",
   "language": "python",
   "name": "python3"
  },
  "language_info": {
   "codemirror_mode": {
    "name": "ipython",
    "version": 3
   },
   "file_extension": ".py",
   "mimetype": "text/x-python",
   "name": "python",
   "nbconvert_exporter": "python",
   "pygments_lexer": "ipython3",
   "version": "3.6.8"
  }
 },
 "nbformat": 4,
 "nbformat_minor": 1
}
