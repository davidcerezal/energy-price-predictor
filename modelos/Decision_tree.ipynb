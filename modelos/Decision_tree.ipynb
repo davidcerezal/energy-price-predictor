{
  "nbformat": 4,
  "nbformat_minor": 0,
  "metadata": {
    "colab": {
      "name": "Decision_tree.ipynb",
      "version": "0.3.2",
      "provenance": [],
      "collapsed_sections": [],
      "toc_visible": true
    },
    "kernelspec": {
      "name": "python3",
      "display_name": "Python 3"
    },
    "accelerator": "GPU"
  },
  "cells": [
    {
      "cell_type": "markdown",
      "metadata": {
        "id": "cx82H4OmEZVR",
        "colab_type": "text"
      },
      "source": [
        "#Decision Tree Regressor\n",
        "\n"
      ]
    },
    {
      "cell_type": "markdown",
      "metadata": {
        "id": "JASz-63lY64O",
        "colab_type": "text"
      },
      "source": [
        "## Importación de librerías y datos\n",
        "\n",
        "Por medio de nuestra libería ESIOS_contoller.py importamos nuestro último dataset de datos y lo parseamos para su uso. Sirve tanto como para Drive como jupiter."
      ]
    },
    {
      "cell_type": "code",
      "metadata": {
        "id": "uCkvfteNY-od",
        "colab_type": "code",
        "outputId": "47e5a136-b9dd-4c8c-caae-4393e98a262e",
        "colab": {
          "base_uri": "https://localhost:8080/",
          "height": 105
        }
      },
      "source": [
        "import json, urllib, datetime, pickle, time\n",
        "import pandas as pd\n",
        "import numpy as np\n",
        "import seaborn as sns \n",
        "import matplotlib.pyplot as plt\n",
        "from sklearn.model_selection import *\n",
        "from sklearn.preprocessing import *\n",
        "from sklearn.metrics import *\n",
        "from keras.models import *\n",
        "from keras.layers import *\n",
        "from keras.optimizers import *\n",
        "from scipy.stats import *\n",
        "from importlib.machinery import SourceFileLoader\n",
        "\n",
        "\n",
        "try:\n",
        "  from google.colab import drive\n",
        "  drive.mount('/content/drive')\n",
        "  path = '/content/drive/My Drive/TFM/Utils/ESIOS_contoller.py'\n",
        "  in_colab = True\n",
        "except:\n",
        "  path = '../utils/ESIOS_contoller.py'\n",
        "  in_colab = False\n",
        "  \n",
        "\n",
        "esios_assembler = SourceFileLoader('esios', path).load_module()\n",
        "\n",
        "esios_controller = esios_assembler.ESIOS(in_colab)\n",
        "data_consumo = esios_controller.get_data('non-secuencial')"
      ],
      "execution_count": 33,
      "outputs": [
        {
          "output_type": "stream",
          "text": [
            "Drive already mounted at /content/drive; to attempt to forcibly remount, call drive.mount(\"/content/drive\", force_remount=True).\n",
            "Mostrando los datos de data_total_for_non_serial.csv\n",
            "(30555, 33)\n",
            "________________________________________________________________________________\n"
          ],
          "name": "stdout"
        }
      ]
    },
    {
      "cell_type": "markdown",
      "metadata": {
        "id": "CaGx5ORyGZLI",
        "colab_type": "text"
      },
      "source": [
        "## Preparación de los datos"
      ]
    },
    {
      "cell_type": "code",
      "metadata": {
        "id": "FtIkBQUL74un",
        "colab_type": "code",
        "outputId": "871e8a3b-2b06-4582-9a2a-587573ad4954",
        "colab": {
          "base_uri": "https://localhost:8080/",
          "height": 51
        }
      },
      "source": [
        "x_data = esios_controller.get_data_real_time()\n",
        "y_data = esios_controller.get_target_data()\n",
        "\n",
        "# Split the data\n",
        "x_train, x_valid, y_train, y_valid = train_test_split(x_data, y_data, test_size=0.33, shuffle=False)\n",
        "\n",
        "#Reshape for the LSTM\n",
        "x_train = x_train.to_numpy()\n",
        "x_valid = x_valid.to_numpy()\n",
        "y_train = y_train.to_numpy()\n",
        "y_valid = y_valid.to_numpy()\n",
        "\n",
        "print('Xtrain_dim:', x_train.shape)\n",
        "print('Ytrain_dim:', y_train.shape)"
      ],
      "execution_count": 34,
      "outputs": [
        {
          "output_type": "stream",
          "text": [
            "Xtrain_dim: (20471, 23)\n",
            "Ytrain_dim: (20471, 1)\n"
          ],
          "name": "stdout"
        }
      ]
    },
    {
      "cell_type": "markdown",
      "metadata": {
        "id": "24K8XGk7Eirr",
        "colab_type": "text"
      },
      "source": [
        "##Modelo"
      ]
    },
    {
      "cell_type": "code",
      "metadata": {
        "id": "EVU0VJ48QxXl",
        "colab_type": "code",
        "outputId": "629762e5-779e-4f74-ddee-0e054ccbe5b1",
        "colab": {
          "base_uri": "https://localhost:8080/",
          "height": 102
        }
      },
      "source": [
        "from sklearn.tree import DecisionTreeRegressor\n",
        "\n",
        "regressor = DecisionTreeRegressor(random_state=0)\n",
        "regressor.fit(x_train, y_train)"
      ],
      "execution_count": 36,
      "outputs": [
        {
          "output_type": "execute_result",
          "data": {
            "text/plain": [
              "DecisionTreeRegressor(criterion='mse', max_depth=None, max_features=None,\n",
              "                      max_leaf_nodes=None, min_impurity_decrease=0.0,\n",
              "                      min_impurity_split=None, min_samples_leaf=1,\n",
              "                      min_samples_split=2, min_weight_fraction_leaf=0.0,\n",
              "                      presort=False, random_state=0, splitter='best')"
            ]
          },
          "metadata": {
            "tags": []
          },
          "execution_count": 36
        }
      ]
    },
    {
      "cell_type": "code",
      "metadata": {
        "id": "LIQH8QUHzo5w",
        "colab_type": "code",
        "outputId": "4696be6f-39ab-4d02-afb1-6086b73ff997",
        "colab": {
          "base_uri": "https://localhost:8080/",
          "height": 51
        }
      },
      "source": [
        "from sklearn.model_selection import cross_val_score\n",
        "\n",
        "cross_val_score(regressor, x_valid, y_valid, cv=10)"
      ],
      "execution_count": 37,
      "outputs": [
        {
          "output_type": "execute_result",
          "data": {
            "text/plain": [
              "array([0.78775875, 0.52461888, 0.6820827 , 0.72300306, 0.59406513,\n",
              "       0.80706985, 0.73176272, 0.76880528, 0.7622391 , 0.5381068 ])"
            ]
          },
          "metadata": {
            "tags": []
          },
          "execution_count": 37
        }
      ]
    },
    {
      "cell_type": "code",
      "metadata": {
        "id": "Ez4sqKXfztbn",
        "colab_type": "code",
        "outputId": "dc616d7a-a46d-4337-9f29-e4769313a5fc",
        "colab": {
          "base_uri": "https://localhost:8080/",
          "height": 119
        }
      },
      "source": [
        "print('R2 en entrenamiento es: ', regressor.score(x_train, y_train))\n",
        "print('R2 en validación es: ', regressor.score(x_valid, y_valid))\n",
        "\n",
        "print('MAE: ', mean_absolute_error(regressor.predict(x_valid), y_valid))\n",
        "print('MSE: ', mean_squared_error(regressor.predict(x_valid), y_valid))\n",
        "#print('RMSE: ', mean_squared_log_error(regressor.predict(x_valid), y_valid))\n",
        "print('Variance: ', explained_variance_score(regressor.predict(x_valid), y_valid))\n",
        "print('R2: ', r2_score(regressor.predict(x_valid), y_valid))\n",
        "#print(regressor.coef_)"
      ],
      "execution_count": 38,
      "outputs": [
        {
          "output_type": "stream",
          "text": [
            "R2 en entrenamiento es:  1.0\n",
            "R2 en validación es:  0.8140189333930462\n",
            "MAE:  3.5193722729075763\n",
            "MSE:  23.547518117810395\n",
            "Variance:  0.8228015232487185\n",
            "R2:  0.8218263409334737\n"
          ],
          "name": "stdout"
        }
      ]
    },
    {
      "cell_type": "markdown",
      "metadata": {
        "id": "zhDhSR0fuuQf",
        "colab_type": "text"
      },
      "source": [
        "## Normalizados"
      ]
    },
    {
      "cell_type": "code",
      "metadata": {
        "id": "306XPpX6ut3X",
        "colab_type": "code",
        "colab": {}
      },
      "source": [
        "scaler = StandardScaler()\n",
        "x_train_est = scaler.fit_transform(x_train)\n",
        "y_train_est = scaler.fit_transform(y_train)\n",
        "x_valid_est = scaler.fit_transform(x_valid)\n",
        "y_valid_est = scaler.fit_transform(y_valid)"
      ],
      "execution_count": 0,
      "outputs": []
    },
    {
      "cell_type": "code",
      "metadata": {
        "id": "bO_SK-jNut0Y",
        "colab_type": "code",
        "outputId": "e554dd47-c47d-4e74-d182-ea5494457717",
        "colab": {
          "base_uri": "https://localhost:8080/",
          "height": 102
        }
      },
      "source": [
        "regressor_standarized = DecisionTreeRegressor(random_state=0)\n",
        "regressor_standarized.fit(x_train_est, y_train_est)"
      ],
      "execution_count": 40,
      "outputs": [
        {
          "output_type": "execute_result",
          "data": {
            "text/plain": [
              "DecisionTreeRegressor(criterion='mse', max_depth=None, max_features=None,\n",
              "                      max_leaf_nodes=None, min_impurity_decrease=0.0,\n",
              "                      min_impurity_split=None, min_samples_leaf=1,\n",
              "                      min_samples_split=2, min_weight_fraction_leaf=0.0,\n",
              "                      presort=False, random_state=0, splitter='best')"
            ]
          },
          "metadata": {
            "tags": []
          },
          "execution_count": 40
        }
      ]
    },
    {
      "cell_type": "code",
      "metadata": {
        "id": "yT0Wgw-Su0xg",
        "colab_type": "code",
        "outputId": "a65bec7c-751a-4be0-ab20-ac5543956c9b",
        "colab": {
          "base_uri": "https://localhost:8080/",
          "height": 119
        }
      },
      "source": [
        "print('R2 en entrenamiento es: ', regressor_standarized.score(x_train_est, y_train_est))\n",
        "print('R2 en validación es: ', regressor_standarized.score(x_valid_est, y_valid_est))\n",
        "\n",
        "print('MAE: ', mean_absolute_error(regressor_standarized.predict(x_valid_est), y_valid_est))\n",
        "print('MSE: ', mean_squared_error(regressor_standarized.predict(x_valid_est), y_valid_est))\n",
        "#print('RMSE: ', mean_squared_log_error(regressor_standarized.predict(x_valid_est), y_valid_est))\n",
        "print('Variance: ', explained_variance_score(regressor_standarized.predict(x_valid_est), y_valid_est))\n",
        "print('R2: ', r2_score(regressor_standarized.predict(x_valid_est), y_valid_est))"
      ],
      "execution_count": 41,
      "outputs": [
        {
          "output_type": "stream",
          "text": [
            "R2 en entrenamiento es:  0.9999999971664847\n",
            "R2 en validación es:  0.8564415424845535\n",
            "MAE:  0.2715218174119526\n",
            "MSE:  0.14355845751544644\n",
            "Variance:  0.8473509162286471\n",
            "R2:  0.8472343601302845\n"
          ],
          "name": "stdout"
        }
      ]
    },
    {
      "cell_type": "markdown",
      "metadata": {
        "id": "1km7BRTqxm4a",
        "colab_type": "text"
      },
      "source": [
        "## Optimización de modelos"
      ]
    },
    {
      "cell_type": "code",
      "metadata": {
        "id": "9ZjvLUwCxq8P",
        "colab_type": "code",
        "outputId": "c54086e4-db2b-40f2-d983-094c6a3b6531",
        "colab": {
          "base_uri": "https://localhost:8080/",
          "height": 323
        }
      },
      "source": [
        "param_grid = {\"criterion\": [\"mse\", \"mae\"],\n",
        "              \"min_samples_split\": [10, 20, 40],\n",
        "              \"max_depth\": [2, 6, 8],\n",
        "              \"min_samples_leaf\": [20, 40, 100],\n",
        "              \"max_leaf_nodes\": [5, 20, 100],\n",
        "              }\n",
        "\n",
        "clf = GridSearchCV(regressor, param_grid, cv=5)\n",
        "clf.fit(x_train, y_train)"
      ],
      "execution_count": 0,
      "outputs": [
        {
          "output_type": "execute_result",
          "data": {
            "text/plain": [
              "GridSearchCV(cv=5, error_score='raise-deprecating',\n",
              "             estimator=DecisionTreeRegressor(criterion='mse', max_depth=None,\n",
              "                                             max_features=None,\n",
              "                                             max_leaf_nodes=None,\n",
              "                                             min_impurity_decrease=0.0,\n",
              "                                             min_impurity_split=None,\n",
              "                                             min_samples_leaf=1,\n",
              "                                             min_samples_split=2,\n",
              "                                             min_weight_fraction_leaf=0.0,\n",
              "                                             presort=False, random_state=0,\n",
              "                                             splitter='best'),\n",
              "             iid='warn', n_jobs=None,\n",
              "             param_grid={'criterion': ['mse', 'mae'], 'max_depth': [2, 6, 8],\n",
              "                         'max_leaf_nodes': [5, 20, 100],\n",
              "                         'min_samples_leaf': [20, 40, 100],\n",
              "                         'min_samples_split': [10, 20, 40]},\n",
              "             pre_dispatch='2*n_jobs', refit=True, return_train_score=False,\n",
              "             scoring=None, verbose=0)"
            ]
          },
          "metadata": {
            "tags": []
          },
          "execution_count": 18
        }
      ]
    },
    {
      "cell_type": "code",
      "metadata": {
        "id": "-5ksZrzEkNuk",
        "colab_type": "code",
        "outputId": "069df62a-7636-4ec2-fd34-5d270cc635c1",
        "colab": {
          "base_uri": "https://localhost:8080/",
          "height": 34
        }
      },
      "source": [
        "print(clf.best_params_)\n"
      ],
      "execution_count": 0,
      "outputs": [
        {
          "output_type": "stream",
          "text": [
            "{'criterion': 'mse', 'max_depth': 8, 'max_leaf_nodes': 100, 'min_samples_leaf': 40, 'min_samples_split': 10}\n"
          ],
          "name": "stdout"
        }
      ]
    },
    {
      "cell_type": "markdown",
      "metadata": {
        "id": "JIlNpmfEA90q",
        "colab_type": "text"
      },
      "source": [
        "## Try best model"
      ]
    },
    {
      "cell_type": "code",
      "metadata": {
        "id": "rtqCfIoVk5IA",
        "colab_type": "code",
        "colab": {}
      },
      "source": [
        "regressor = DecisionTreeRegressor(criterion='mse', max_depth= 8, max_leaf_nodes= 200, min_samples_leaf= 40, min_samples_split= 2)\n",
        "model_fit = regressor.fit(x_train, y_train)"
      ],
      "execution_count": 0,
      "outputs": []
    },
    {
      "cell_type": "code",
      "metadata": {
        "id": "jw5UYYmtk7Dg",
        "colab_type": "code",
        "outputId": "2c295c4a-749d-4fac-dc7e-6d7eab6645aa",
        "colab": {
          "base_uri": "https://localhost:8080/",
          "height": 51
        }
      },
      "source": [
        "from sklearn.model_selection import cross_val_score\n",
        "\n",
        "cross_val_score(regressor, x_valid, y_valid, cv=10)"
      ],
      "execution_count": 46,
      "outputs": [
        {
          "output_type": "execute_result",
          "data": {
            "text/plain": [
              "array([0.89486021, 0.72979586, 0.80117989, 0.81741218, 0.76559692,\n",
              "       0.88774078, 0.83484429, 0.86445979, 0.83767378, 0.71632333])"
            ]
          },
          "metadata": {
            "tags": []
          },
          "execution_count": 46
        }
      ]
    },
    {
      "cell_type": "code",
      "metadata": {
        "id": "cqxo4CDSk9NR",
        "colab_type": "code",
        "outputId": "e0985d8c-4fcf-46fc-c5cb-8c757cc7cd06",
        "colab": {
          "base_uri": "https://localhost:8080/",
          "height": 119
        }
      },
      "source": [
        "print('R2 en entrenamiento es: ', regressor.score(x_train, y_train))\n",
        "print('R2 en validación es: ', regressor.score(x_valid, y_valid))\n",
        "\n",
        "print('MAE: ', mean_absolute_error(regressor.predict(x_valid), y_valid))\n",
        "print('MSE: ', mean_squared_error(regressor.predict(x_valid), y_valid))\n",
        "#print('RMSE: ', mean_squared_log_error(regressor.predict(x_valid), y_valid))\n",
        "print('Variance: ', explained_variance_score(regressor.predict(x_valid), y_valid))\n",
        "print('R2: ', r2_score(regressor.predict(x_valid), y_valid))\n",
        "#print(regressor.coef_)"
      ],
      "execution_count": 47,
      "outputs": [
        {
          "output_type": "stream",
          "text": [
            "R2 en entrenamiento es:  0.949767732603002\n",
            "R2 en validación es:  0.9163412188583834\n",
            "MAE:  2.3705676905981328\n",
            "MSE:  10.592243073911355\n",
            "Variance:  0.9072843005214764\n",
            "R2:  0.905683241767359\n"
          ],
          "name": "stdout"
        }
      ]
    }
  ]
}