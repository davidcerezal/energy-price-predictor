{
  "nbformat": 4,
  "nbformat_minor": 0,
  "metadata": {
    "colab": {
      "name": "Random_forest.ipynb",
      "version": "0.3.2",
      "provenance": [],
      "collapsed_sections": [],
      "toc_visible": true
    },
    "kernelspec": {
      "name": "python3",
      "display_name": "Python 3"
    },
    "accelerator": "GPU"
  },
  "cells": [
    {
      "cell_type": "markdown",
      "metadata": {
        "id": "cx82H4OmEZVR",
        "colab_type": "text"
      },
      "source": [
        "#Random Forest\n"
      ]
    },
    {
      "cell_type": "markdown",
      "metadata": {
        "id": "JASz-63lY64O",
        "colab_type": "text"
      },
      "source": [
        "## Importación de librerías y datos\n",
        "\n",
        "Por medio de nuestra libería ESIOS_contoller.py importamos nuestro último dataset de datos y lo parseamos para su uso. Sirve tanto como para Drive como jupiter."
      ]
    },
    {
      "cell_type": "code",
      "metadata": {
        "id": "uCkvfteNY-od",
        "colab_type": "code",
        "outputId": "e02c1a20-796d-47e0-b5cb-8e65d8236d5b",
        "colab": {
          "base_uri": "https://localhost:8080/",
          "height": 105
        }
      },
      "source": [
        "import json, urllib, datetime, pickle, time\n",
        "import pandas as pd\n",
        "import numpy as np\n",
        "import seaborn as sns \n",
        "import matplotlib.pyplot as plt\n",
        "from sklearn.model_selection import *\n",
        "from sklearn.metrics import *\n",
        "from keras.models import *\n",
        "from keras.layers import *\n",
        "from sklearn.preprocessing import *\n",
        "from keras.optimizers import *\n",
        "from scipy.stats import *\n",
        "from importlib.machinery import SourceFileLoader\n",
        "\n",
        "\n",
        "try:\n",
        "  from google.colab import drive\n",
        "  drive.mount('/content/drive')\n",
        "  path = '/content/drive/My Drive/TFM/Utils/ESIOS_contoller.py'\n",
        "  in_colab = True\n",
        "except:\n",
        "  path = '../utils/ESIOS_contoller.py'\n",
        "  in_colab = False\n",
        "  \n",
        "\n",
        "esios_assembler = SourceFileLoader('esios', path).load_module()\n",
        "\n",
        "esios_controller = esios_assembler.ESIOS(in_colab)\n",
        "data_consumo = esios_controller.get_data('non-secuencial')"
      ],
      "execution_count": 14,
      "outputs": [
        {
          "output_type": "stream",
          "text": [
            "Drive already mounted at /content/drive; to attempt to forcibly remount, call drive.mount(\"/content/drive\", force_remount=True).\n",
            "Mostrando los datos de data_total_for_non_serial.csv\n",
            "(30555, 33)\n",
            "________________________________________________________________________________\n"
          ],
          "name": "stdout"
        }
      ]
    },
    {
      "cell_type": "markdown",
      "metadata": {
        "id": "CaGx5ORyGZLI",
        "colab_type": "text"
      },
      "source": [
        "## Preparación de los datos"
      ]
    },
    {
      "cell_type": "code",
      "metadata": {
        "id": "FtIkBQUL74un",
        "colab_type": "code",
        "outputId": "954640ff-f50f-4b91-a499-15edc56f79fd",
        "colab": {
          "base_uri": "https://localhost:8080/",
          "height": 51
        }
      },
      "source": [
        "x_data = esios_controller.get_data_real_time()\n",
        "y_data = esios_controller.get_target_data()\n",
        "\n",
        "# Split the data\n",
        "x_train, x_valid, y_train, y_valid = train_test_split(x_data, y_data, test_size=0.33, shuffle=False)\n",
        "\n",
        "#Reshape for the LSTM\n",
        "x_train = x_train.to_numpy()\n",
        "x_valid = x_valid.to_numpy()\n",
        "y_train = y_train.to_numpy()\n",
        "y_valid = y_valid.to_numpy()\n",
        "\n",
        "print('Xtrain_dim:', x_train.shape)\n",
        "print('Ytrain_dim:', y_train.shape)"
      ],
      "execution_count": 15,
      "outputs": [
        {
          "output_type": "stream",
          "text": [
            "Xtrain_dim: (20471, 23)\n",
            "Ytrain_dim: (20471, 1)\n"
          ],
          "name": "stdout"
        }
      ]
    },
    {
      "cell_type": "markdown",
      "metadata": {
        "id": "24K8XGk7Eirr",
        "colab_type": "text"
      },
      "source": [
        "## Modelo"
      ]
    },
    {
      "cell_type": "code",
      "metadata": {
        "id": "_bsjZzV40tSu",
        "colab_type": "code",
        "outputId": "a8cee559-48d9-473d-999e-66d11fbc1ad3",
        "colab": {
          "base_uri": "https://localhost:8080/",
          "height": 190
        }
      },
      "source": [
        "from sklearn.ensemble import RandomForestRegressor\n",
        "from sklearn.datasets import make_regression\n",
        "\n",
        "regressor = RandomForestRegressor(random_state=0, n_estimators=100)\n",
        "regressor.fit(x_train, y_train)"
      ],
      "execution_count": 16,
      "outputs": [
        {
          "output_type": "stream",
          "text": [
            "/usr/local/lib/python3.6/dist-packages/ipykernel_launcher.py:5: DataConversionWarning: A column-vector y was passed when a 1d array was expected. Please change the shape of y to (n_samples,), for example using ravel().\n",
            "  \"\"\"\n"
          ],
          "name": "stderr"
        },
        {
          "output_type": "execute_result",
          "data": {
            "text/plain": [
              "RandomForestRegressor(bootstrap=True, criterion='mse', max_depth=None,\n",
              "                      max_features='auto', max_leaf_nodes=None,\n",
              "                      min_impurity_decrease=0.0, min_impurity_split=None,\n",
              "                      min_samples_leaf=1, min_samples_split=2,\n",
              "                      min_weight_fraction_leaf=0.0, n_estimators=100,\n",
              "                      n_jobs=None, oob_score=False, random_state=0, verbose=0,\n",
              "                      warm_start=False)"
            ]
          },
          "metadata": {
            "tags": []
          },
          "execution_count": 16
        }
      ]
    },
    {
      "cell_type": "code",
      "metadata": {
        "id": "qJfsdygX0vF7",
        "colab_type": "code",
        "outputId": "b111501c-da8b-4489-a88f-eed73698b6c5",
        "colab": {
          "base_uri": "https://localhost:8080/",
          "height": 411
        }
      },
      "source": [
        "\n",
        "cross_val_score(regressor, x_train, y_train, cv=10)"
      ],
      "execution_count": 17,
      "outputs": [
        {
          "output_type": "stream",
          "text": [
            "/usr/local/lib/python3.6/dist-packages/sklearn/model_selection/_validation.py:516: DataConversionWarning: A column-vector y was passed when a 1d array was expected. Please change the shape of y to (n_samples,), for example using ravel().\n",
            "  estimator.fit(X_train, y_train, **fit_params)\n",
            "/usr/local/lib/python3.6/dist-packages/sklearn/model_selection/_validation.py:516: DataConversionWarning: A column-vector y was passed when a 1d array was expected. Please change the shape of y to (n_samples,), for example using ravel().\n",
            "  estimator.fit(X_train, y_train, **fit_params)\n",
            "/usr/local/lib/python3.6/dist-packages/sklearn/model_selection/_validation.py:516: DataConversionWarning: A column-vector y was passed when a 1d array was expected. Please change the shape of y to (n_samples,), for example using ravel().\n",
            "  estimator.fit(X_train, y_train, **fit_params)\n",
            "/usr/local/lib/python3.6/dist-packages/sklearn/model_selection/_validation.py:516: DataConversionWarning: A column-vector y was passed when a 1d array was expected. Please change the shape of y to (n_samples,), for example using ravel().\n",
            "  estimator.fit(X_train, y_train, **fit_params)\n",
            "/usr/local/lib/python3.6/dist-packages/sklearn/model_selection/_validation.py:516: DataConversionWarning: A column-vector y was passed when a 1d array was expected. Please change the shape of y to (n_samples,), for example using ravel().\n",
            "  estimator.fit(X_train, y_train, **fit_params)\n",
            "/usr/local/lib/python3.6/dist-packages/sklearn/model_selection/_validation.py:516: DataConversionWarning: A column-vector y was passed when a 1d array was expected. Please change the shape of y to (n_samples,), for example using ravel().\n",
            "  estimator.fit(X_train, y_train, **fit_params)\n",
            "/usr/local/lib/python3.6/dist-packages/sklearn/model_selection/_validation.py:516: DataConversionWarning: A column-vector y was passed when a 1d array was expected. Please change the shape of y to (n_samples,), for example using ravel().\n",
            "  estimator.fit(X_train, y_train, **fit_params)\n",
            "/usr/local/lib/python3.6/dist-packages/sklearn/model_selection/_validation.py:516: DataConversionWarning: A column-vector y was passed when a 1d array was expected. Please change the shape of y to (n_samples,), for example using ravel().\n",
            "  estimator.fit(X_train, y_train, **fit_params)\n",
            "/usr/local/lib/python3.6/dist-packages/sklearn/model_selection/_validation.py:516: DataConversionWarning: A column-vector y was passed when a 1d array was expected. Please change the shape of y to (n_samples,), for example using ravel().\n",
            "  estimator.fit(X_train, y_train, **fit_params)\n",
            "/usr/local/lib/python3.6/dist-packages/sklearn/model_selection/_validation.py:516: DataConversionWarning: A column-vector y was passed when a 1d array was expected. Please change the shape of y to (n_samples,), for example using ravel().\n",
            "  estimator.fit(X_train, y_train, **fit_params)\n"
          ],
          "name": "stderr"
        },
        {
          "output_type": "execute_result",
          "data": {
            "text/plain": [
              "array([0.8810945 , 0.90707287, 0.90307692, 0.87740886, 0.90942654,\n",
              "       0.92198088, 0.79639903, 0.86748683, 0.92813885, 0.93621009])"
            ]
          },
          "metadata": {
            "tags": []
          },
          "execution_count": 17
        }
      ]
    },
    {
      "cell_type": "code",
      "metadata": {
        "id": "Zof5ILmb0wAD",
        "colab_type": "code",
        "outputId": "f0854c27-6991-4dfa-fa54-f5634579f983",
        "colab": {
          "base_uri": "https://localhost:8080/",
          "height": 119
        }
      },
      "source": [
        "print('R2 en entrenamiento es: ', regressor.score(x_train, y_train))\n",
        "print('R2 en validación es: ', regressor.score(x_valid, y_valid))\n",
        "\n",
        "print('MAE: ', mean_absolute_error(regressor.predict(x_valid), y_valid))\n",
        "print('MSE: ', mean_squared_error(regressor.predict(x_valid), y_valid))\n",
        "#print('RMSE: ', mean_squared_log_error(regressor.predict(x_valid), y_valid))\n",
        "print('Variance: ', explained_variance_score(regressor.predict(x_valid), y_valid))\n",
        "print('R2: ', r2_score(regressor.predict(x_valid), y_valid))\n",
        "#print(regressor.coef_)"
      ],
      "execution_count": 19,
      "outputs": [
        {
          "output_type": "stream",
          "text": [
            "R2 en entrenamiento es:  0.9940292400218449\n",
            "R2 en validación es:  0.9438712631769839\n",
            "MAE:  1.8953539964299895\n",
            "MSE:  7.106596770213214\n",
            "Variance:  0.9385451796252975\n",
            "R2:  0.9374660891991529\n"
          ],
          "name": "stdout"
        }
      ]
    },
    {
      "cell_type": "markdown",
      "metadata": {
        "id": "r1AngOUsynin",
        "colab_type": "text"
      },
      "source": [
        "## Normalizados"
      ]
    },
    {
      "cell_type": "code",
      "metadata": {
        "id": "UF_jZ3dwylfH",
        "colab_type": "code",
        "colab": {}
      },
      "source": [
        "scaler = StandardScaler()\n",
        "x_train_est = scaler.fit_transform(x_train)\n",
        "y_train_est = scaler.fit_transform(y_train)\n",
        "x_valid_est = scaler.fit_transform(x_valid)\n",
        "y_valid_est = scaler.fit_transform(y_valid)"
      ],
      "execution_count": 0,
      "outputs": []
    },
    {
      "cell_type": "code",
      "metadata": {
        "id": "gRj6vwVLykJD",
        "colab_type": "code",
        "outputId": "22b4285d-c073-41f8-b8ed-d3730cc07ce1",
        "colab": {
          "base_uri": "https://localhost:8080/",
          "height": 190
        }
      },
      "source": [
        "regressor_standarized = RandomForestRegressor(random_state=0, n_estimators=100)\n",
        "regressor_standarized.fit(x_train_est, y_train_est)"
      ],
      "execution_count": 21,
      "outputs": [
        {
          "output_type": "stream",
          "text": [
            "/usr/local/lib/python3.6/dist-packages/ipykernel_launcher.py:2: DataConversionWarning: A column-vector y was passed when a 1d array was expected. Please change the shape of y to (n_samples,), for example using ravel().\n",
            "  \n"
          ],
          "name": "stderr"
        },
        {
          "output_type": "execute_result",
          "data": {
            "text/plain": [
              "RandomForestRegressor(bootstrap=True, criterion='mse', max_depth=None,\n",
              "                      max_features='auto', max_leaf_nodes=None,\n",
              "                      min_impurity_decrease=0.0, min_impurity_split=None,\n",
              "                      min_samples_leaf=1, min_samples_split=2,\n",
              "                      min_weight_fraction_leaf=0.0, n_estimators=100,\n",
              "                      n_jobs=None, oob_score=False, random_state=0, verbose=0,\n",
              "                      warm_start=False)"
            ]
          },
          "metadata": {
            "tags": []
          },
          "execution_count": 21
        }
      ]
    },
    {
      "cell_type": "code",
      "metadata": {
        "id": "_w8rTjtRyiNs",
        "colab_type": "code",
        "outputId": "f70c8cd4-06bc-425d-9da0-e956102c0493",
        "colab": {
          "base_uri": "https://localhost:8080/",
          "height": 119
        }
      },
      "source": [
        "print('R2 en entrenamiento es: ', regressor_standarized.score(x_train_est, y_train_est))\n",
        "print('R2 en validación es: ', regressor_standarized.score(x_valid_est, y_valid_est))\n",
        "\n",
        "print('MAE: ', mean_absolute_error(regressor_standarized.predict(x_valid_est), y_valid_est))\n",
        "print('MSE: ', mean_squared_error(regressor_standarized.predict(x_valid_est), y_valid_est))\n",
        "#print('RMSE: ', mean_squared_log_error(regressor_standarized.predict(x_valid_est), y_valid_est))\n",
        "print('Variance: ', explained_variance_score(regressor_standarized.predict(x_valid_est), y_valid_est))\n",
        "print('R2: ', r2_score(regressor_standarized.predict(x_valid_est), y_valid_est))"
      ],
      "execution_count": 22,
      "outputs": [
        {
          "output_type": "stream",
          "text": [
            "R2 en entrenamiento es:  0.9940388820147471\n",
            "R2 en validación es:  0.9314792572447922\n",
            "MAE:  0.17759906622482613\n",
            "MSE:  0.06852074275520786\n",
            "Variance:  0.9209749632387114\n",
            "R2:  0.9209499575475414\n"
          ],
          "name": "stdout"
        }
      ]
    },
    {
      "cell_type": "markdown",
      "metadata": {
        "id": "iCgaV8tpycbb",
        "colab_type": "text"
      },
      "source": [
        "## Optimización de modelos"
      ]
    },
    {
      "cell_type": "code",
      "metadata": {
        "id": "evFFjaTuydJq",
        "colab_type": "code",
        "outputId": "a4130f28-b7d4-4d99-b1c4-3ea7ae8cac19",
        "colab": {
          "base_uri": "https://localhost:8080/",
          "height": 17
        }
      },
      "source": [
        "from sklearn.model_selection import RandomizedSearchCV\n",
        "\n",
        "n_estimators = [int(x) for x in np.linspace(start = 100, stop = 2000, num = 20)]\n",
        "max_features = ['auto', 'sqrt']\n",
        "max_depth = [int(x) for x in np.linspace(10, 110, num = 11)]\n",
        "max_depth.append(None)\n",
        "min_samples_split = [2, 5, 10]\n",
        "min_samples_leaf = [1, 2, 4]\n",
        "bootstrap = [True, False]\n",
        "\n",
        "param_grid = {'n_estimators': n_estimators,\n",
        "               'max_features': max_features,\n",
        "               'max_depth': max_depth,\n",
        "               'min_samples_split': min_samples_split,\n",
        "               'min_samples_leaf': min_samples_leaf,\n",
        "               'bootstrap': bootstrap}\n",
        "\n",
        "clf = GridSearchCV(regressor, param_grid, cv=5)\n",
        "clf.fit(x_train, y_train)"
      ],
      "execution_count": 0,
      "outputs": [
        {
          "output_type": "stream",
          "text": [
            "/usr/local/lib/python3.6/dist-packages/sklearn/model_selection/_validation.py:516: DataConversionWarning: A column-vector y was passed when a 1d array was expected. Please change the shape of y to (n_samples,), for example using ravel().\n",
            "  estimator.fit(X_train, y_train, **fit_params)\n"
          ],
          "name": "stderr"
        }
      ]
    },
    {
      "cell_type": "markdown",
      "metadata": {
        "id": "eu7lnSa8yYyz",
        "colab_type": "text"
      },
      "source": [
        "## Visualización del modelo"
      ]
    },
    {
      "cell_type": "code",
      "metadata": {
        "id": "3pm_1D6tyV8t",
        "colab_type": "code",
        "outputId": "a8031fce-bbb5-4362-90b2-6802ec34c1e8",
        "colab": {
          "base_uri": "https://localhost:8080/",
          "height": 232
        }
      },
      "source": [
        "# Extract single tree\n",
        "estimator = regressor.estimators_[5]\n",
        "\n",
        "from sklearn.tree import export_graphviz\n",
        "# Export as dot file\n",
        "export_graphviz(estimator, out_file='tree.dot', \n",
        "                feature_names = x_valid_est.feature_names,\n",
        "                class_names = y_valid_est.target_names,\n",
        "                rounded = True, proportion = False, \n",
        "                precision = 2, filled = True)\n",
        "\n",
        "# Convert to png using system command (requires Graphviz)\n",
        "from subprocess import call\n",
        "call(['dot', '-Tpng', 'tree.dot', '-o', 'tree.png', '-Gdpi=600'])\n",
        "\n",
        "# Display in jupyter notebook\n",
        "from IPython.display import Image\n",
        "Image(filename = 'tree.png')"
      ],
      "execution_count": 0,
      "outputs": [
        {
          "output_type": "error",
          "ename": "AttributeError",
          "evalue": "ignored",
          "traceback": [
            "\u001b[0;31m---------------------------------------------------------------------------\u001b[0m",
            "\u001b[0;31mAttributeError\u001b[0m                            Traceback (most recent call last)",
            "\u001b[0;32m<ipython-input-33-a846412a58ff>\u001b[0m in \u001b[0;36m<module>\u001b[0;34m()\u001b[0m\n\u001b[1;32m      4\u001b[0m \u001b[0;31m# Export as dot file\u001b[0m\u001b[0;34m\u001b[0m\u001b[0;34m\u001b[0m\u001b[0;34m\u001b[0m\u001b[0m\n\u001b[1;32m      5\u001b[0m export_graphviz(estimator, out_file='tree.dot', \n\u001b[0;32m----> 6\u001b[0;31m                 \u001b[0mfeature_names\u001b[0m \u001b[0;34m=\u001b[0m \u001b[0mx_valid_est\u001b[0m\u001b[0;34m.\u001b[0m\u001b[0mfeature_names\u001b[0m\u001b[0;34m,\u001b[0m\u001b[0;34m\u001b[0m\u001b[0;34m\u001b[0m\u001b[0m\n\u001b[0m\u001b[1;32m      7\u001b[0m                 \u001b[0mclass_names\u001b[0m \u001b[0;34m=\u001b[0m \u001b[0my_valid_est\u001b[0m\u001b[0;34m.\u001b[0m\u001b[0mtarget_names\u001b[0m\u001b[0;34m,\u001b[0m\u001b[0;34m\u001b[0m\u001b[0;34m\u001b[0m\u001b[0m\n\u001b[1;32m      8\u001b[0m                 \u001b[0mrounded\u001b[0m \u001b[0;34m=\u001b[0m \u001b[0;32mTrue\u001b[0m\u001b[0;34m,\u001b[0m \u001b[0mproportion\u001b[0m \u001b[0;34m=\u001b[0m \u001b[0;32mFalse\u001b[0m\u001b[0;34m,\u001b[0m\u001b[0;34m\u001b[0m\u001b[0;34m\u001b[0m\u001b[0m\n",
            "\u001b[0;31mAttributeError\u001b[0m: 'numpy.ndarray' object has no attribute 'feature_names'"
          ]
        }
      ]
    }
  ]
}