{
  "nbformat": 4,
  "nbformat_minor": 0,
  "metadata": {
    "colab": {
      "name": "modelos_arboles.ipynb",
      "version": "0.3.2",
      "provenance": [],
      "collapsed_sections": [],
      "toc_visible": true
    },
    "kernelspec": {
      "name": "python3",
      "display_name": "Python 3"
    },
    "accelerator": "TPU"
  },
  "cells": [
    {
      "cell_type": "markdown",
      "metadata": {
        "id": "cx82H4OmEZVR",
        "colab_type": "text"
      },
      "source": [
        "#Modelos de árbol\n"
      ]
    },
    {
      "cell_type": "markdown",
      "metadata": {
        "id": "JASz-63lY64O",
        "colab_type": "text"
      },
      "source": [
        "##Activación para Colab"
      ]
    },
    {
      "cell_type": "code",
      "metadata": {
        "id": "uCkvfteNY-od",
        "colab_type": "code",
        "colab": {}
      },
      "source": [
        "#LMG: Variable para controlar si estamos en Colab o no y aplicar a las celdas:\n",
        "inColab = False"
      ],
      "execution_count": 0,
      "outputs": []
    },
    {
      "cell_type": "markdown",
      "metadata": {
        "id": "CU6hOISSQ1fn",
        "colab_type": "text"
      },
      "source": [
        "En la siguiente celda, montamos la carpeta personal del Drive en Colab en caso de estar en este entorno. Pedirá un código al que se accede desde el enlace que facilita."
      ]
    },
    {
      "cell_type": "code",
      "metadata": {
        "id": "RrIqkj0YPNeB",
        "colab_type": "code",
        "colab": {}
      },
      "source": [
        "#LMG: Para Google CoLab tener el repo de Drive:\n",
        "if inColab:\n",
        "  from google.colab import drive\n",
        "  drive.mount('/content/drive')"
      ],
      "execution_count": 0,
      "outputs": []
    },
    {
      "cell_type": "markdown",
      "metadata": {
        "id": "QPdkUOGTfXeo",
        "colab_type": "text"
      },
      "source": [
        "##Carga de librerías y preparación de datos"
      ]
    },
    {
      "cell_type": "code",
      "metadata": {
        "id": "JZo4Cp7RezA-",
        "colab_type": "code",
        "colab": {
          "base_uri": "https://localhost:8080/",
          "height": 34
        },
        "outputId": "6510aed2-b95c-4e02-fb7c-821a0cf6f65a"
      },
      "source": [
        "%matplotlib inline\n",
        "import matplotlib.pyplot as plt\n",
        "import pandas as pd\n",
        "import numpy as np\n",
        "from sklearn.model_selection import train_test_split\n",
        "from keras.models import Sequential\n",
        "from keras.layers import Dense, Activation, LSTM\n",
        "from sklearn.preprocessing import StandardScaler\n",
        "from keras.optimizers import SGD"
      ],
      "execution_count": 10,
      "outputs": [
        {
          "output_type": "stream",
          "text": [
            "Using TensorFlow backend.\n"
          ],
          "name": "stderr"
        }
      ]
    },
    {
      "cell_type": "code",
      "metadata": {
        "id": "jElUruaqeoFw",
        "colab_type": "code",
        "outputId": "ed5f7bfa-509e-4244-b93a-44005c4ce442",
        "colab": {
          "base_uri": "https://localhost:8080/",
          "height": 292
        }
      },
      "source": [
        "#LMG: Para CoLab en sample_data:\n",
        "if inColab:\n",
        "  data_consumo = pd.read_csv(\"/content/drive/My Drive/TFM/data/data_total_for_non_serial.csv\")\n",
        "else:\n",
        "  data_consumo = pd.read_csv(\"data_total_for_non_serial.csv\")\n",
        "  \n",
        "data_consumo = data_consumo.loc[:, ~data_consumo.columns.str.contains('^Unnamed')]   \n",
        "x_data = data_consumo.drop(columns=['PVPC_DEF',\n",
        "  'PVPC_2_PED_NOC',\n",
        "  'PVPC_ELEC_NOC',\n",
        "  'Precio mercado SPOT Diario_x',\n",
        "  'Precio SPOT PT',\n",
        "  'Precio SPOT FR',\n",
        "  'Demanda real',\n",
        "  'fecha',\n",
        "  'date_day',                               \n",
        "])\n",
        "\n",
        "y_data = data_consumo[['PVPC_DEF']]\n",
        "\n",
        "x_data.head()"
      ],
      "execution_count": 21,
      "outputs": [
        {
          "output_type": "execute_result",
          "data": {
            "text/html": [
              "<div>\n",
              "<style scoped>\n",
              "    .dataframe tbody tr th:only-of-type {\n",
              "        vertical-align: middle;\n",
              "    }\n",
              "\n",
              "    .dataframe tbody tr th {\n",
              "        vertical-align: top;\n",
              "    }\n",
              "\n",
              "    .dataframe thead th {\n",
              "        text-align: right;\n",
              "    }\n",
              "</style>\n",
              "<table border=\"1\" class=\"dataframe\">\n",
              "  <thead>\n",
              "    <tr style=\"text-align: right;\">\n",
              "      <th></th>\n",
              "      <th>date_timestamp</th>\n",
              "      <th>Demanda</th>\n",
              "      <th>Eolica</th>\n",
              "      <th>Nuclear</th>\n",
              "      <th>Solar</th>\n",
              "      <th>Solar_Fotovoltaica</th>\n",
              "      <th>Solar_Termica</th>\n",
              "      <th>Termica_Renovable</th>\n",
              "      <th>Prevista</th>\n",
              "      <th>Programada</th>\n",
              "      <th>Brent_price</th>\n",
              "      <th>Holiday</th>\n",
              "      <th>Precio de Regulación Secundaria subir</th>\n",
              "      <th>Precio de Regulación Secundaria bajar</th>\n",
              "      <th>Generación prevista Solar</th>\n",
              "      <th>Saldo total interconexiones programa p48</th>\n",
              "      <th>Generación programada P48 Exportación Portugal</th>\n",
              "      <th>Generación programada P48 Exportación Francia</th>\n",
              "      <th>Generación programada P48 Importación Portugal</th>\n",
              "      <th>Generación programada P48 Importación Francia</th>\n",
              "      <th>PVPC-1h</th>\n",
              "      <th>PVPC-2h</th>\n",
              "      <th>PVPC-1d</th>\n",
              "      <th>PVPC-1w</th>\n",
              "    </tr>\n",
              "  </thead>\n",
              "  <tbody>\n",
              "    <tr>\n",
              "      <th>0</th>\n",
              "      <td>1.443650e+09</td>\n",
              "      <td>24984.666667</td>\n",
              "      <td>1003.666667</td>\n",
              "      <td>6012.833333</td>\n",
              "      <td>402.166667</td>\n",
              "      <td>33.0</td>\n",
              "      <td>368.500000</td>\n",
              "      <td>580.166667</td>\n",
              "      <td>24691.833333</td>\n",
              "      <td>24517.0</td>\n",
              "      <td>47.48</td>\n",
              "      <td>0.0</td>\n",
              "      <td>61.18</td>\n",
              "      <td>NaN</td>\n",
              "      <td>267.6</td>\n",
              "      <td>182.4</td>\n",
              "      <td>-606.6</td>\n",
              "      <td>NaN</td>\n",
              "      <td>NaN</td>\n",
              "      <td>1200.0</td>\n",
              "      <td>0.00</td>\n",
              "      <td>0.00</td>\n",
              "      <td>0.0</td>\n",
              "      <td>0.0</td>\n",
              "    </tr>\n",
              "    <tr>\n",
              "      <th>1</th>\n",
              "      <td>1.443654e+09</td>\n",
              "      <td>23550.833333</td>\n",
              "      <td>899.000000</td>\n",
              "      <td>6013.166667</td>\n",
              "      <td>174.833333</td>\n",
              "      <td>33.0</td>\n",
              "      <td>141.333333</td>\n",
              "      <td>584.166667</td>\n",
              "      <td>23440.000000</td>\n",
              "      <td>23169.0</td>\n",
              "      <td>47.48</td>\n",
              "      <td>0.0</td>\n",
              "      <td>59.59</td>\n",
              "      <td>NaN</td>\n",
              "      <td>195.7</td>\n",
              "      <td>-269.5</td>\n",
              "      <td>-1112.5</td>\n",
              "      <td>NaN</td>\n",
              "      <td>NaN</td>\n",
              "      <td>1200.0</td>\n",
              "      <td>117.77</td>\n",
              "      <td>0.00</td>\n",
              "      <td>0.0</td>\n",
              "      <td>0.0</td>\n",
              "    </tr>\n",
              "    <tr>\n",
              "      <th>2</th>\n",
              "      <td>1.443658e+09</td>\n",
              "      <td>22648.166667</td>\n",
              "      <td>927.500000</td>\n",
              "      <td>6013.500000</td>\n",
              "      <td>103.833333</td>\n",
              "      <td>33.0</td>\n",
              "      <td>70.666667</td>\n",
              "      <td>585.833333</td>\n",
              "      <td>22521.166667</td>\n",
              "      <td>22437.0</td>\n",
              "      <td>47.48</td>\n",
              "      <td>0.0</td>\n",
              "      <td>56.27</td>\n",
              "      <td>49.13</td>\n",
              "      <td>202.1</td>\n",
              "      <td>94.0</td>\n",
              "      <td>-951.0</td>\n",
              "      <td>NaN</td>\n",
              "      <td>NaN</td>\n",
              "      <td>1200.0</td>\n",
              "      <td>117.09</td>\n",
              "      <td>117.77</td>\n",
              "      <td>0.0</td>\n",
              "      <td>0.0</td>\n",
              "    </tr>\n",
              "    <tr>\n",
              "      <th>3</th>\n",
              "      <td>1.443661e+09</td>\n",
              "      <td>22203.833333</td>\n",
              "      <td>935.666667</td>\n",
              "      <td>6013.000000</td>\n",
              "      <td>102.000000</td>\n",
              "      <td>33.0</td>\n",
              "      <td>69.000000</td>\n",
              "      <td>588.500000</td>\n",
              "      <td>22335.333333</td>\n",
              "      <td>22281.0</td>\n",
              "      <td>47.48</td>\n",
              "      <td>0.0</td>\n",
              "      <td>45.99</td>\n",
              "      <td>45.50</td>\n",
              "      <td>61.3</td>\n",
              "      <td>319.7</td>\n",
              "      <td>-846.3</td>\n",
              "      <td>NaN</td>\n",
              "      <td>NaN</td>\n",
              "      <td>1200.0</td>\n",
              "      <td>114.59</td>\n",
              "      <td>117.09</td>\n",
              "      <td>0.0</td>\n",
              "      <td>0.0</td>\n",
              "    </tr>\n",
              "    <tr>\n",
              "      <th>4</th>\n",
              "      <td>1.443665e+09</td>\n",
              "      <td>21987.833333</td>\n",
              "      <td>900.833333</td>\n",
              "      <td>6014.166667</td>\n",
              "      <td>101.666667</td>\n",
              "      <td>33.0</td>\n",
              "      <td>68.166667</td>\n",
              "      <td>589.000000</td>\n",
              "      <td>22177.833333</td>\n",
              "      <td>21910.0</td>\n",
              "      <td>47.48</td>\n",
              "      <td>0.0</td>\n",
              "      <td>52.28</td>\n",
              "      <td>49.13</td>\n",
              "      <td>45.1</td>\n",
              "      <td>405.5</td>\n",
              "      <td>-760.5</td>\n",
              "      <td>NaN</td>\n",
              "      <td>NaN</td>\n",
              "      <td>1200.0</td>\n",
              "      <td>116.60</td>\n",
              "      <td>114.59</td>\n",
              "      <td>0.0</td>\n",
              "      <td>0.0</td>\n",
              "    </tr>\n",
              "  </tbody>\n",
              "</table>\n",
              "</div>"
            ],
            "text/plain": [
              "   date_timestamp       Demanda       Eolica  ...  PVPC-2h  PVPC-1d  PVPC-1w\n",
              "0    1.443650e+09  24984.666667  1003.666667  ...     0.00      0.0      0.0\n",
              "1    1.443654e+09  23550.833333   899.000000  ...     0.00      0.0      0.0\n",
              "2    1.443658e+09  22648.166667   927.500000  ...   117.77      0.0      0.0\n",
              "3    1.443661e+09  22203.833333   935.666667  ...   117.09      0.0      0.0\n",
              "4    1.443665e+09  21987.833333   900.833333  ...   114.59      0.0      0.0\n",
              "\n",
              "[5 rows x 24 columns]"
            ]
          },
          "metadata": {
            "tags": []
          },
          "execution_count": 21
        }
      ]
    },
    {
      "cell_type": "code",
      "metadata": {
        "id": "FtIkBQUL74un",
        "colab_type": "code",
        "outputId": "4eab2cd3-44c8-4381-c4d5-112b6248aa41",
        "colab": {
          "base_uri": "https://localhost:8080/",
          "height": 51
        }
      },
      "source": [
        "# Split the data\n",
        "x_train, x_valid, y_train, y_valid = train_test_split(x_data, y_data, test_size=0.33, shuffle=True)\n",
        "\n",
        "#Reshape for the LSTM\n",
        "x_train = x_train.to_numpy()\n",
        "x_valid = x_valid.to_numpy()\n",
        "y_train = y_train.to_numpy()\n",
        "y_valid = y_valid.to_numpy()\n",
        "\n",
        "print('Xtrain_dim:', x_train.shape)\n",
        "print('Ytrain_dim:', y_train.shape)"
      ],
      "execution_count": 22,
      "outputs": [
        {
          "output_type": "stream",
          "text": [
            "Xtrain_dim: (20471, 24)\n",
            "Ytrain_dim: (20471, 1)\n"
          ],
          "name": "stdout"
        }
      ]
    },
    {
      "cell_type": "markdown",
      "metadata": {
        "id": "24K8XGk7Eirr",
        "colab_type": "text"
      },
      "source": [
        "##Ejemplo de DesicionTreeClasifier"
      ]
    },
    {
      "cell_type": "code",
      "metadata": {
        "id": "FxcZkJTX0ZGQ",
        "colab_type": "code",
        "colab": {}
      },
      "source": [
        "scaler = StandardScaler()\n",
        "x_train_est = scaler.fit_transform(x_train)\n",
        "y_train_est = scaler.fit_transform(y_train)\n",
        "x_valid_est = scaler.fit_transform(x_valid)\n",
        "y_valid_est = scaler.fit_transform(y_valid)"
      ],
      "execution_count": 0,
      "outputs": []
    },
    {
      "cell_type": "code",
      "metadata": {
        "id": "EVU0VJ48QxXl",
        "colab_type": "code",
        "colab": {
          "base_uri": "https://localhost:8080/",
          "height": 361
        },
        "outputId": "950b95c4-3e2b-41ff-f869-f6d6145a64ec"
      },
      "source": [
        "from sklearn.tree import DecisionTreeRegressor\n",
        "\n",
        "regressor = DecisionTreeRegressor(random_state=0)\n",
        "regressor.fit(x_train_est, y_train_est)"
      ],
      "execution_count": 29,
      "outputs": [
        {
          "output_type": "error",
          "ename": "ValueError",
          "evalue": "ignored",
          "traceback": [
            "\u001b[0;31m---------------------------------------------------------------------------\u001b[0m",
            "\u001b[0;31mValueError\u001b[0m                                Traceback (most recent call last)",
            "\u001b[0;32m<ipython-input-29-a0d82aceaaed>\u001b[0m in \u001b[0;36m<module>\u001b[0;34m()\u001b[0m\n\u001b[1;32m      2\u001b[0m \u001b[0;34m\u001b[0m\u001b[0m\n\u001b[1;32m      3\u001b[0m \u001b[0mregressor\u001b[0m \u001b[0;34m=\u001b[0m \u001b[0mDecisionTreeRegressor\u001b[0m\u001b[0;34m(\u001b[0m\u001b[0mrandom_state\u001b[0m\u001b[0;34m=\u001b[0m\u001b[0;36m0\u001b[0m\u001b[0;34m)\u001b[0m\u001b[0;34m\u001b[0m\u001b[0;34m\u001b[0m\u001b[0m\n\u001b[0;32m----> 4\u001b[0;31m \u001b[0mregressor\u001b[0m\u001b[0;34m.\u001b[0m\u001b[0mfit\u001b[0m\u001b[0;34m(\u001b[0m\u001b[0mx_train_est\u001b[0m\u001b[0;34m,\u001b[0m \u001b[0my_train_est\u001b[0m\u001b[0;34m)\u001b[0m\u001b[0;34m\u001b[0m\u001b[0;34m\u001b[0m\u001b[0m\n\u001b[0m",
            "\u001b[0;32m/usr/local/lib/python3.6/dist-packages/sklearn/tree/tree.py\u001b[0m in \u001b[0;36mfit\u001b[0;34m(self, X, y, sample_weight, check_input, X_idx_sorted)\u001b[0m\n\u001b[1;32m   1155\u001b[0m             \u001b[0msample_weight\u001b[0m\u001b[0;34m=\u001b[0m\u001b[0msample_weight\u001b[0m\u001b[0;34m,\u001b[0m\u001b[0;34m\u001b[0m\u001b[0;34m\u001b[0m\u001b[0m\n\u001b[1;32m   1156\u001b[0m             \u001b[0mcheck_input\u001b[0m\u001b[0;34m=\u001b[0m\u001b[0mcheck_input\u001b[0m\u001b[0;34m,\u001b[0m\u001b[0;34m\u001b[0m\u001b[0;34m\u001b[0m\u001b[0m\n\u001b[0;32m-> 1157\u001b[0;31m             X_idx_sorted=X_idx_sorted)\n\u001b[0m\u001b[1;32m   1158\u001b[0m         \u001b[0;32mreturn\u001b[0m \u001b[0mself\u001b[0m\u001b[0;34m\u001b[0m\u001b[0;34m\u001b[0m\u001b[0m\n\u001b[1;32m   1159\u001b[0m \u001b[0;34m\u001b[0m\u001b[0m\n",
            "\u001b[0;32m/usr/local/lib/python3.6/dist-packages/sklearn/tree/tree.py\u001b[0m in \u001b[0;36mfit\u001b[0;34m(self, X, y, sample_weight, check_input, X_idx_sorted)\u001b[0m\n\u001b[1;32m    128\u001b[0m         \u001b[0mrandom_state\u001b[0m \u001b[0;34m=\u001b[0m \u001b[0mcheck_random_state\u001b[0m\u001b[0;34m(\u001b[0m\u001b[0mself\u001b[0m\u001b[0;34m.\u001b[0m\u001b[0mrandom_state\u001b[0m\u001b[0;34m)\u001b[0m\u001b[0;34m\u001b[0m\u001b[0;34m\u001b[0m\u001b[0m\n\u001b[1;32m    129\u001b[0m         \u001b[0;32mif\u001b[0m \u001b[0mcheck_input\u001b[0m\u001b[0;34m:\u001b[0m\u001b[0;34m\u001b[0m\u001b[0;34m\u001b[0m\u001b[0m\n\u001b[0;32m--> 130\u001b[0;31m             \u001b[0mX\u001b[0m \u001b[0;34m=\u001b[0m \u001b[0mcheck_array\u001b[0m\u001b[0;34m(\u001b[0m\u001b[0mX\u001b[0m\u001b[0;34m,\u001b[0m \u001b[0mdtype\u001b[0m\u001b[0;34m=\u001b[0m\u001b[0mDTYPE\u001b[0m\u001b[0;34m,\u001b[0m \u001b[0maccept_sparse\u001b[0m\u001b[0;34m=\u001b[0m\u001b[0;34m\"csc\"\u001b[0m\u001b[0;34m)\u001b[0m\u001b[0;34m\u001b[0m\u001b[0;34m\u001b[0m\u001b[0m\n\u001b[0m\u001b[1;32m    131\u001b[0m             \u001b[0my\u001b[0m \u001b[0;34m=\u001b[0m \u001b[0mcheck_array\u001b[0m\u001b[0;34m(\u001b[0m\u001b[0my\u001b[0m\u001b[0;34m,\u001b[0m \u001b[0mensure_2d\u001b[0m\u001b[0;34m=\u001b[0m\u001b[0;32mFalse\u001b[0m\u001b[0;34m,\u001b[0m \u001b[0mdtype\u001b[0m\u001b[0;34m=\u001b[0m\u001b[0;32mNone\u001b[0m\u001b[0;34m)\u001b[0m\u001b[0;34m\u001b[0m\u001b[0;34m\u001b[0m\u001b[0m\n\u001b[1;32m    132\u001b[0m             \u001b[0;32mif\u001b[0m \u001b[0missparse\u001b[0m\u001b[0;34m(\u001b[0m\u001b[0mX\u001b[0m\u001b[0;34m)\u001b[0m\u001b[0;34m:\u001b[0m\u001b[0;34m\u001b[0m\u001b[0;34m\u001b[0m\u001b[0m\n",
            "\u001b[0;32m/usr/local/lib/python3.6/dist-packages/sklearn/utils/validation.py\u001b[0m in \u001b[0;36mcheck_array\u001b[0;34m(array, accept_sparse, accept_large_sparse, dtype, order, copy, force_all_finite, ensure_2d, allow_nd, ensure_min_samples, ensure_min_features, warn_on_dtype, estimator)\u001b[0m\n\u001b[1;32m    540\u001b[0m         \u001b[0;32mif\u001b[0m \u001b[0mforce_all_finite\u001b[0m\u001b[0;34m:\u001b[0m\u001b[0;34m\u001b[0m\u001b[0;34m\u001b[0m\u001b[0m\n\u001b[1;32m    541\u001b[0m             _assert_all_finite(array,\n\u001b[0;32m--> 542\u001b[0;31m                                allow_nan=force_all_finite == 'allow-nan')\n\u001b[0m\u001b[1;32m    543\u001b[0m \u001b[0;34m\u001b[0m\u001b[0m\n\u001b[1;32m    544\u001b[0m     \u001b[0;32mif\u001b[0m \u001b[0mensure_min_samples\u001b[0m \u001b[0;34m>\u001b[0m \u001b[0;36m0\u001b[0m\u001b[0;34m:\u001b[0m\u001b[0;34m\u001b[0m\u001b[0;34m\u001b[0m\u001b[0m\n",
            "\u001b[0;32m/usr/local/lib/python3.6/dist-packages/sklearn/utils/validation.py\u001b[0m in \u001b[0;36m_assert_all_finite\u001b[0;34m(X, allow_nan)\u001b[0m\n\u001b[1;32m     54\u001b[0m                 not allow_nan and not np.isfinite(X).all()):\n\u001b[1;32m     55\u001b[0m             \u001b[0mtype_err\u001b[0m \u001b[0;34m=\u001b[0m \u001b[0;34m'infinity'\u001b[0m \u001b[0;32mif\u001b[0m \u001b[0mallow_nan\u001b[0m \u001b[0;32melse\u001b[0m \u001b[0;34m'NaN, infinity'\u001b[0m\u001b[0;34m\u001b[0m\u001b[0;34m\u001b[0m\u001b[0m\n\u001b[0;32m---> 56\u001b[0;31m             \u001b[0;32mraise\u001b[0m \u001b[0mValueError\u001b[0m\u001b[0;34m(\u001b[0m\u001b[0mmsg_err\u001b[0m\u001b[0;34m.\u001b[0m\u001b[0mformat\u001b[0m\u001b[0;34m(\u001b[0m\u001b[0mtype_err\u001b[0m\u001b[0;34m,\u001b[0m \u001b[0mX\u001b[0m\u001b[0;34m.\u001b[0m\u001b[0mdtype\u001b[0m\u001b[0;34m)\u001b[0m\u001b[0;34m)\u001b[0m\u001b[0;34m\u001b[0m\u001b[0;34m\u001b[0m\u001b[0m\n\u001b[0m\u001b[1;32m     57\u001b[0m     \u001b[0;31m# for object dtype data, we only check for NaNs (GH-13254)\u001b[0m\u001b[0;34m\u001b[0m\u001b[0;34m\u001b[0m\u001b[0;34m\u001b[0m\u001b[0m\n\u001b[1;32m     58\u001b[0m     \u001b[0;32melif\u001b[0m \u001b[0mX\u001b[0m\u001b[0;34m.\u001b[0m\u001b[0mdtype\u001b[0m \u001b[0;34m==\u001b[0m \u001b[0mnp\u001b[0m\u001b[0;34m.\u001b[0m\u001b[0mdtype\u001b[0m\u001b[0;34m(\u001b[0m\u001b[0;34m'object'\u001b[0m\u001b[0;34m)\u001b[0m \u001b[0;32mand\u001b[0m \u001b[0;32mnot\u001b[0m \u001b[0mallow_nan\u001b[0m\u001b[0;34m:\u001b[0m\u001b[0;34m\u001b[0m\u001b[0;34m\u001b[0m\u001b[0m\n",
            "\u001b[0;31mValueError\u001b[0m: Input contains NaN, infinity or a value too large for dtype('float32')."
          ]
        }
      ]
    },
    {
      "cell_type": "code",
      "metadata": {
        "id": "LIQH8QUHzo5w",
        "colab_type": "code",
        "colab": {}
      },
      "source": [
        "\n",
        "cross_val_score(regressor, x_test, y_test, cv=10)"
      ],
      "execution_count": 0,
      "outputs": []
    },
    {
      "cell_type": "code",
      "metadata": {
        "id": "Ez4sqKXfztbn",
        "colab_type": "code",
        "colab": {}
      },
      "source": [
        "print('R2 en entrenamiento es: ', regressor.score(x_train, y_train))\n",
        "print('R2 en validación es: ', regressor.score(x_test, y_test))\n",
        "print(regressor.coef_)"
      ],
      "execution_count": 0,
      "outputs": []
    },
    {
      "cell_type": "markdown",
      "metadata": {
        "id": "F84ExjUB0srs",
        "colab_type": "text"
      },
      "source": [
        ""
      ]
    },
    {
      "cell_type": "code",
      "metadata": {
        "id": "_bsjZzV40tSu",
        "colab_type": "code",
        "colab": {}
      },
      "source": [
        "from sklearn.tree import RandomForestRegressor\n",
        "\n",
        "regressor = RandomForestRegressor(random_state=0)\n",
        "regressor.fit(x_train_est, y_train_est)"
      ],
      "execution_count": 0,
      "outputs": []
    },
    {
      "cell_type": "code",
      "metadata": {
        "id": "qJfsdygX0vF7",
        "colab_type": "code",
        "colab": {}
      },
      "source": [
        "\n",
        "cross_val_score(regressor, x_test, y_test, cv=10)"
      ],
      "execution_count": 0,
      "outputs": []
    },
    {
      "cell_type": "code",
      "metadata": {
        "id": "Zof5ILmb0wAD",
        "colab_type": "code",
        "colab": {}
      },
      "source": [
        "print('R2 en entrenamiento es: ', regressor.score(x_train, y_train))\n",
        "print('R2 en validación es: ', regressor.score(x_test, y_test))\n",
        "print(regressor.coef_)"
      ],
      "execution_count": 0,
      "outputs": []
    }
  ]
}